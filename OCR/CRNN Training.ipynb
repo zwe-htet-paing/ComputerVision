{
 "cells": [
  {
   "cell_type": "code",
   "execution_count": 1,
   "metadata": {},
   "outputs": [],
   "source": [
    "import torch\n",
    "import torch.nn as nn\n",
    "import torch.nn.functional as F\n",
    "import torch.optim as optim\n",
    "\n",
    "import pandas as pd\n",
    "import numpy as np\n",
    "import matplotlib.pyplot as plt\n",
    "import os, glob, string\n",
    "\n",
    "from torch.utils.data import Dataset, DataLoader\n",
    "from torchvision.models import resnet18\n",
    "from torchvision import transforms\n",
    "\n",
    "from tqdm.notebook import tqdm\n",
    "import multiprocessing as mp\n",
    "import cv2 \n",
    "from PIL import Image\n",
    "from sklearn.model_selection import train_test_split\n",
    "from sklearn.metrics import accuracy_score\n",
    "import string"
   ]
  },
  {
   "cell_type": "code",
   "execution_count": 2,
   "metadata": {},
   "outputs": [
    {
     "name": "stdout",
     "output_type": "stream",
     "text": [
      "Device: cuda\n",
      "cpu_count: 16\n"
     ]
    }
   ],
   "source": [
    "BATCH_SIZE = 16\n",
    "NUM_EPOCHS = 10\n",
    "LEARNING_RATE = 0.001\n",
    "WEIGHT_DECAY = 1e-3\n",
    "CLIP_NORM = 5\n",
    "DEVICE = torch.device('cuda' if torch.cuda.is_available() else 'cpu')\n",
    "cpu_count = mp.cpu_count()\n",
    "\n",
    "print(f'Device: {DEVICE}')\n",
    "print(f'cpu_count: {cpu_count}')"
   ]
  },
  {
   "cell_type": "markdown",
   "metadata": {},
   "source": [
    "### Dataset"
   ]
  },
  {
   "cell_type": "code",
   "execution_count": null,
   "metadata": {},
   "outputs": [],
   "source": [
    "# def download_and_unzip(url, extract_to=\"Datasets\"):\n",
    "#     http_response = urlopen(url)\n",
    "#     zipfile = ZipFile(BytesIO(http_response.read()))\n",
    "#     zipfile.extractall(path=extract_to)\n",
    "    \n",
    "# if not os.path.exists(os.path.join(\"Datasets\", \"captcha_images_v2\")):\n",
    "#     download_and_unzip(\"https://github.com/AakashKumarNain/CaptchaCracker/raw/master/captcha_images_v2.zip\",\n",
    "#                        extract_to=\"Datasets\")"
   ]
  },
  {
   "cell_type": "code",
   "execution_count": 3,
   "metadata": {},
   "outputs": [
    {
     "name": "stdout",
     "output_type": "stream",
     "text": [
      "Total images: 1040\n",
      "Unique length of capthca: [5]\n"
     ]
    }
   ],
   "source": [
    "path = 'datasets/captcha_images_v2/'\n",
    "images = os.listdir(path)\n",
    "\n",
    "unique_len = np.unique([len(img.split(\".\")[0]) for img in images])\n",
    "\n",
    "print(f'Total images: {len(images)}')\n",
    "print(f'Unique length of capthca: {unique_len}')"
   ]
  },
  {
   "cell_type": "code",
   "execution_count": 4,
   "metadata": {},
   "outputs": [
    {
     "data": {
      "text/plain": [
       "['7m8px.png',\n",
       " 'e5n66.png',\n",
       " 'y2xg4.png',\n",
       " 'pcpg6.png',\n",
       " '3g2w6.png',\n",
       " 'dn26n.png',\n",
       " 'mcyfx.png',\n",
       " 'mgdwb.png',\n",
       " '2wx73.png',\n",
       " 'pgg3n.png']"
      ]
     },
     "execution_count": 4,
     "metadata": {},
     "output_type": "execute_result"
    }
   ],
   "source": [
    "images[:10]"
   ]
  },
  {
   "cell_type": "code",
   "execution_count": 5,
   "metadata": {},
   "outputs": [
    {
     "name": "stdout",
     "output_type": "stream",
     "text": [
      "After cleaning, there are: 1040 images\n"
     ]
    }
   ],
   "source": [
    "#check for non-captcha if len of capthca not equal to 5\n",
    "for idx, filename in enumerate(images):\n",
    "    if len(filename.split(\".\")[0]) != 5:\n",
    "        print(f'Found file \"{filename}\" at index {idx} that is non-captcha image')\n",
    "        images.remove(filename) \n",
    "\n",
    "print(f'After cleaning, there are: {len(images)} images')"
   ]
  },
  {
   "cell_type": "markdown",
   "metadata": {},
   "source": [
    "### Character Mapping"
   ]
  },
  {
   "cell_type": "code",
   "execution_count": 6,
   "metadata": {},
   "outputs": [],
   "source": [
    "# all_letters = string.ascii_lowercase + string.digits\n",
    "\n",
    "# mapping = dict()\n",
    "# mapping_inv = dict()\n",
    "# i = 0\n",
    "# for x in all_letters:\n",
    "#     mapping[x] = i\n",
    "#     mapping_inv[i] = x\n",
    "#     i += 1\n",
    "    \n",
    "# num_chars = len(mapping)\n",
    "# num_chars"
   ]
  },
  {
   "cell_type": "code",
   "execution_count": 7,
   "metadata": {},
   "outputs": [
    {
     "name": "stdout",
     "output_type": "stream",
     "text": [
      "['2', '3', '4', '5', '6', '7', '8', 'b', 'c', 'd', 'e', 'f', 'g', 'm', 'n', 'p', 'w', 'x', 'y']\n",
      "['-', '2', '3', '4', '5', '6', '7', '8', 'b', 'c', 'd', 'e', 'f', 'g', 'm', 'n', 'p', 'w', 'x', 'y']\n",
      "20\n"
     ]
    }
   ],
   "source": [
    "all_filename = [filename.split('.')[0] for filename in images]\n",
    "all_filename = ''.join(all_filename)\n",
    "# print(list(all_filename))\n",
    "all_letters = sorted(list(set(list(all_filename))))\n",
    "print(all_letters)\n",
    "\n",
    "vocab = ['-'] + all_letters\n",
    "print(vocab)\n",
    "print(len(vocab))"
   ]
  },
  {
   "cell_type": "code",
   "execution_count": 8,
   "metadata": {},
   "outputs": [
    {
     "name": "stdout",
     "output_type": "stream",
     "text": [
      "{0: '-', 1: '2', 2: '3', 3: '4', 4: '5', 5: '6', 6: '7', 7: '8', 8: 'b', 9: 'c', 10: 'd', 11: 'e', 12: 'f', 13: 'g', 14: 'm', 15: 'n', 16: 'p', 17: 'w', 18: 'x', 19: 'y'}\n",
      "{'-': 0, '2': 1, '3': 2, '4': 3, '5': 4, '6': 5, '7': 6, '8': 7, 'b': 8, 'c': 9, 'd': 10, 'e': 11, 'f': 12, 'g': 13, 'm': 14, 'n': 15, 'p': 16, 'w': 17, 'x': 18, 'y': 19}\n",
      "20\n"
     ]
    }
   ],
   "source": [
    "idx2char = {k:v for k, v in enumerate(vocab)}\n",
    "print(idx2char)\n",
    "\n",
    "char2idx = {v:k for k, v in idx2char.items()}\n",
    "print(char2idx)\n",
    "\n",
    "num_chars = len(idx2char)\n",
    "print(num_chars)"
   ]
  },
  {
   "cell_type": "markdown",
   "metadata": {},
   "source": [
    "### Split train and test"
   ]
  },
  {
   "cell_type": "code",
   "execution_count": 9,
   "metadata": {},
   "outputs": [
    {
     "name": "stdout",
     "output_type": "stream",
     "text": [
      "Train images: 780\n",
      "Test images: 260\n"
     ]
    }
   ],
   "source": [
    "train_images, test_images = train_test_split(images, random_state=0)\n",
    "print(f'Train images: {len(train_images)}')\n",
    "print(f'Test images: {len(test_images)}')"
   ]
  },
  {
   "cell_type": "markdown",
   "metadata": {},
   "source": [
    "### DataLoader"
   ]
  },
  {
   "cell_type": "code",
   "execution_count": 10,
   "metadata": {},
   "outputs": [],
   "source": [
    "class CaptchaDataset(Dataset):\n",
    "    def __init__(self, base_dir, image_filenames, transform):\n",
    "        self.base_dir = base_dir\n",
    "        self.image_filenames = image_filenames\n",
    "        self.transform = transform\n",
    "        \n",
    "    def __len__(self,):\n",
    "        return len(self.image_filenames)\n",
    "    \n",
    "    def __getitem__(self, idx):\n",
    "        image_filename = self.image_filenames[idx]\n",
    "        image_filepath = os.path.join(self.base_dir, image_filename)\n",
    "        image = Image.open(image_filepath).convert('RGB')\n",
    "        image = self.transform(image)\n",
    "        label = image_filename.split('.')[0]\n",
    "        \n",
    "        return (image, label)\n",
    "    \n",
    "    \n",
    "transform = transforms.Compose([\n",
    "    transforms.ToTensor(),\n",
    "    transforms.Normalize(\n",
    "        mean=(0.485, 0.456, 0.406),\n",
    "        std=(0.229, 0.224, 0.225)\n",
    "    )\n",
    "])"
   ]
  },
  {
   "cell_type": "code",
   "execution_count": 11,
   "metadata": {},
   "outputs": [],
   "source": [
    "train_dataset = CaptchaDataset(path, train_images, transform)\n",
    "test_dataset = CaptchaDataset(path, test_images, transform)"
   ]
  },
  {
   "cell_type": "code",
   "execution_count": 12,
   "metadata": {},
   "outputs": [
    {
     "name": "stdout",
     "output_type": "stream",
     "text": [
      "49 batches in the train_loader\n",
      "17 batches in the test_loader\n"
     ]
    }
   ],
   "source": [
    "train_loader = DataLoader(train_dataset, batch_size=BATCH_SIZE, num_workers=cpu_count, shuffle=True)\n",
    "test_loader = DataLoader(test_dataset, batch_size=BATCH_SIZE, num_workers=cpu_count, shuffle=False)\n",
    "\n",
    "print(f'{len(train_loader)} batches in the train_loader')\n",
    "print(f'{len(test_loader)} batches in the test_loader')"
   ]
  },
  {
   "cell_type": "code",
   "execution_count": 13,
   "metadata": {},
   "outputs": [
    {
     "name": "stderr",
     "output_type": "stream",
     "text": [
      "Traceback (most recent call last):\n",
      "  File \"/home/oliver/miniconda3/envs/cuda/lib/python3.11/multiprocessing/util.py\", line 300, in _run_finalizers\n",
      "    finalizer()\n",
      "  File \"/home/oliver/miniconda3/envs/cuda/lib/python3.11/multiprocessing/util.py\", line 224, in __call__\n",
      "    res = self._callback(*self._args, **self._kwargs)\n",
      "          ^^^^^^^^^^^^^^^^^^^^^^^^^^^^^^^^^^^^^^^^^^^\n",
      "  File \"/home/oliver/miniconda3/envs/cuda/lib/python3.11/multiprocessing/util.py\", line 133, in _remove_temp_dir\n",
      "    rmtree(tempdir)\n",
      "  File \"/home/oliver/miniconda3/envs/cuda/lib/python3.11/shutil.py\", line 738, in rmtree\n",
      "    onerror(os.rmdir, path, sys.exc_info())\n",
      "  File \"/home/oliver/miniconda3/envs/cuda/lib/python3.11/shutil.py\", line 736, in rmtree\n",
      "    os.rmdir(path, dir_fd=dir_fd)\n",
      "OSError: [Errno 39] Directory not empty: '/tmp/pymp-g400x5cz'\n"
     ]
    },
    {
     "name": "stdout",
     "output_type": "stream",
     "text": [
      "torch.Size([16, 3, 50, 200]) ('53wb8', 'gd8fb', 'cpe63', 'm5meg', 'e2mg2', '56m6y', '7gce6', 'n3bm6', 'pnmxf', 'ffd6p', '5n245', 'mc35n', 'w2n7e', '8g4yp', 'wwmn6', '4egem')\n"
     ]
    }
   ],
   "source": [
    "image_batch, text_batch = next(iter(train_loader))\n",
    "\n",
    "print(image_batch.size(), text_batch)"
   ]
  },
  {
   "cell_type": "markdown",
   "metadata": {},
   "source": [
    "### Model"
   ]
  },
  {
   "cell_type": "code",
   "execution_count": 14,
   "metadata": {},
   "outputs": [
    {
     "name": "stdout",
     "output_type": "stream",
     "text": [
      "ResNet(\n",
      "  (conv1): Conv2d(3, 64, kernel_size=(7, 7), stride=(2, 2), padding=(3, 3), bias=False)\n",
      "  (bn1): BatchNorm2d(64, eps=1e-05, momentum=0.1, affine=True, track_running_stats=True)\n",
      "  (relu): ReLU(inplace=True)\n",
      "  (maxpool): MaxPool2d(kernel_size=3, stride=2, padding=1, dilation=1, ceil_mode=False)\n",
      "  (layer1): Sequential(\n",
      "    (0): BasicBlock(\n",
      "      (conv1): Conv2d(64, 64, kernel_size=(3, 3), stride=(1, 1), padding=(1, 1), bias=False)\n",
      "      (bn1): BatchNorm2d(64, eps=1e-05, momentum=0.1, affine=True, track_running_stats=True)\n",
      "      (relu): ReLU(inplace=True)\n",
      "      (conv2): Conv2d(64, 64, kernel_size=(3, 3), stride=(1, 1), padding=(1, 1), bias=False)\n",
      "      (bn2): BatchNorm2d(64, eps=1e-05, momentum=0.1, affine=True, track_running_stats=True)\n",
      "    )\n",
      "    (1): BasicBlock(\n",
      "      (conv1): Conv2d(64, 64, kernel_size=(3, 3), stride=(1, 1), padding=(1, 1), bias=False)\n",
      "      (bn1): BatchNorm2d(64, eps=1e-05, momentum=0.1, affine=True, track_running_stats=True)\n",
      "      (relu): ReLU(inplace=True)\n",
      "      (conv2): Conv2d(64, 64, kernel_size=(3, 3), stride=(1, 1), padding=(1, 1), bias=False)\n",
      "      (bn2): BatchNorm2d(64, eps=1e-05, momentum=0.1, affine=True, track_running_stats=True)\n",
      "    )\n",
      "  )\n",
      "  (layer2): Sequential(\n",
      "    (0): BasicBlock(\n",
      "      (conv1): Conv2d(64, 128, kernel_size=(3, 3), stride=(2, 2), padding=(1, 1), bias=False)\n",
      "      (bn1): BatchNorm2d(128, eps=1e-05, momentum=0.1, affine=True, track_running_stats=True)\n",
      "      (relu): ReLU(inplace=True)\n",
      "      (conv2): Conv2d(128, 128, kernel_size=(3, 3), stride=(1, 1), padding=(1, 1), bias=False)\n",
      "      (bn2): BatchNorm2d(128, eps=1e-05, momentum=0.1, affine=True, track_running_stats=True)\n",
      "      (downsample): Sequential(\n",
      "        (0): Conv2d(64, 128, kernel_size=(1, 1), stride=(2, 2), bias=False)\n",
      "        (1): BatchNorm2d(128, eps=1e-05, momentum=0.1, affine=True, track_running_stats=True)\n",
      "      )\n",
      "    )\n",
      "    (1): BasicBlock(\n",
      "      (conv1): Conv2d(128, 128, kernel_size=(3, 3), stride=(1, 1), padding=(1, 1), bias=False)\n",
      "      (bn1): BatchNorm2d(128, eps=1e-05, momentum=0.1, affine=True, track_running_stats=True)\n",
      "      (relu): ReLU(inplace=True)\n",
      "      (conv2): Conv2d(128, 128, kernel_size=(3, 3), stride=(1, 1), padding=(1, 1), bias=False)\n",
      "      (bn2): BatchNorm2d(128, eps=1e-05, momentum=0.1, affine=True, track_running_stats=True)\n",
      "    )\n",
      "  )\n",
      "  (layer3): Sequential(\n",
      "    (0): BasicBlock(\n",
      "      (conv1): Conv2d(128, 256, kernel_size=(3, 3), stride=(2, 2), padding=(1, 1), bias=False)\n",
      "      (bn1): BatchNorm2d(256, eps=1e-05, momentum=0.1, affine=True, track_running_stats=True)\n",
      "      (relu): ReLU(inplace=True)\n",
      "      (conv2): Conv2d(256, 256, kernel_size=(3, 3), stride=(1, 1), padding=(1, 1), bias=False)\n",
      "      (bn2): BatchNorm2d(256, eps=1e-05, momentum=0.1, affine=True, track_running_stats=True)\n",
      "      (downsample): Sequential(\n",
      "        (0): Conv2d(128, 256, kernel_size=(1, 1), stride=(2, 2), bias=False)\n",
      "        (1): BatchNorm2d(256, eps=1e-05, momentum=0.1, affine=True, track_running_stats=True)\n",
      "      )\n",
      "    )\n",
      "    (1): BasicBlock(\n",
      "      (conv1): Conv2d(256, 256, kernel_size=(3, 3), stride=(1, 1), padding=(1, 1), bias=False)\n",
      "      (bn1): BatchNorm2d(256, eps=1e-05, momentum=0.1, affine=True, track_running_stats=True)\n",
      "      (relu): ReLU(inplace=True)\n",
      "      (conv2): Conv2d(256, 256, kernel_size=(3, 3), stride=(1, 1), padding=(1, 1), bias=False)\n",
      "      (bn2): BatchNorm2d(256, eps=1e-05, momentum=0.1, affine=True, track_running_stats=True)\n",
      "    )\n",
      "  )\n",
      "  (layer4): Sequential(\n",
      "    (0): BasicBlock(\n",
      "      (conv1): Conv2d(256, 512, kernel_size=(3, 3), stride=(2, 2), padding=(1, 1), bias=False)\n",
      "      (bn1): BatchNorm2d(512, eps=1e-05, momentum=0.1, affine=True, track_running_stats=True)\n",
      "      (relu): ReLU(inplace=True)\n",
      "      (conv2): Conv2d(512, 512, kernel_size=(3, 3), stride=(1, 1), padding=(1, 1), bias=False)\n",
      "      (bn2): BatchNorm2d(512, eps=1e-05, momentum=0.1, affine=True, track_running_stats=True)\n",
      "      (downsample): Sequential(\n",
      "        (0): Conv2d(256, 512, kernel_size=(1, 1), stride=(2, 2), bias=False)\n",
      "        (1): BatchNorm2d(512, eps=1e-05, momentum=0.1, affine=True, track_running_stats=True)\n",
      "      )\n",
      "    )\n",
      "    (1): BasicBlock(\n",
      "      (conv1): Conv2d(512, 512, kernel_size=(3, 3), stride=(1, 1), padding=(1, 1), bias=False)\n",
      "      (bn1): BatchNorm2d(512, eps=1e-05, momentum=0.1, affine=True, track_running_stats=True)\n",
      "      (relu): ReLU(inplace=True)\n",
      "      (conv2): Conv2d(512, 512, kernel_size=(3, 3), stride=(1, 1), padding=(1, 1), bias=False)\n",
      "      (bn2): BatchNorm2d(512, eps=1e-05, momentum=0.1, affine=True, track_running_stats=True)\n",
      "    )\n",
      "  )\n",
      "  (avgpool): AdaptiveAvgPool2d(output_size=(1, 1))\n",
      "  (fc): Linear(in_features=512, out_features=1000, bias=True)\n",
      ")\n"
     ]
    },
    {
     "name": "stderr",
     "output_type": "stream",
     "text": [
      "/home/oliver/miniconda3/envs/cuda/lib/python3.11/site-packages/torchvision/models/_utils.py:208: UserWarning: The parameter 'pretrained' is deprecated since 0.13 and may be removed in the future, please use 'weights' instead.\n",
      "  warnings.warn(\n",
      "/home/oliver/miniconda3/envs/cuda/lib/python3.11/site-packages/torchvision/models/_utils.py:223: UserWarning: Arguments other than a weight enum or `None` for 'weights' are deprecated since 0.13 and may be removed in the future. The current behavior is equivalent to passing `weights=ResNet18_Weights.IMAGENET1K_V1`. You can also use `weights=ResNet18_Weights.DEFAULT` to get the most up-to-date weights.\n",
      "  warnings.warn(msg)\n"
     ]
    }
   ],
   "source": [
    "resnet = resnet18(pretrained=True)\n",
    "print(resnet)"
   ]
  },
  {
   "cell_type": "code",
   "execution_count": 15,
   "metadata": {},
   "outputs": [
    {
     "name": "stdout",
     "output_type": "stream",
     "text": [
      "[Conv2d(3, 64, kernel_size=(7, 7), stride=(2, 2), padding=(3, 3), bias=False), BatchNorm2d(64, eps=1e-05, momentum=0.1, affine=True, track_running_stats=True), ReLU(inplace=True), MaxPool2d(kernel_size=3, stride=2, padding=1, dilation=1, ceil_mode=False), Sequential(\n",
      "  (0): BasicBlock(\n",
      "    (conv1): Conv2d(64, 64, kernel_size=(3, 3), stride=(1, 1), padding=(1, 1), bias=False)\n",
      "    (bn1): BatchNorm2d(64, eps=1e-05, momentum=0.1, affine=True, track_running_stats=True)\n",
      "    (relu): ReLU(inplace=True)\n",
      "    (conv2): Conv2d(64, 64, kernel_size=(3, 3), stride=(1, 1), padding=(1, 1), bias=False)\n",
      "    (bn2): BatchNorm2d(64, eps=1e-05, momentum=0.1, affine=True, track_running_stats=True)\n",
      "  )\n",
      "  (1): BasicBlock(\n",
      "    (conv1): Conv2d(64, 64, kernel_size=(3, 3), stride=(1, 1), padding=(1, 1), bias=False)\n",
      "    (bn1): BatchNorm2d(64, eps=1e-05, momentum=0.1, affine=True, track_running_stats=True)\n",
      "    (relu): ReLU(inplace=True)\n",
      "    (conv2): Conv2d(64, 64, kernel_size=(3, 3), stride=(1, 1), padding=(1, 1), bias=False)\n",
      "    (bn2): BatchNorm2d(64, eps=1e-05, momentum=0.1, affine=True, track_running_stats=True)\n",
      "  )\n",
      "), Sequential(\n",
      "  (0): BasicBlock(\n",
      "    (conv1): Conv2d(64, 128, kernel_size=(3, 3), stride=(2, 2), padding=(1, 1), bias=False)\n",
      "    (bn1): BatchNorm2d(128, eps=1e-05, momentum=0.1, affine=True, track_running_stats=True)\n",
      "    (relu): ReLU(inplace=True)\n",
      "    (conv2): Conv2d(128, 128, kernel_size=(3, 3), stride=(1, 1), padding=(1, 1), bias=False)\n",
      "    (bn2): BatchNorm2d(128, eps=1e-05, momentum=0.1, affine=True, track_running_stats=True)\n",
      "    (downsample): Sequential(\n",
      "      (0): Conv2d(64, 128, kernel_size=(1, 1), stride=(2, 2), bias=False)\n",
      "      (1): BatchNorm2d(128, eps=1e-05, momentum=0.1, affine=True, track_running_stats=True)\n",
      "    )\n",
      "  )\n",
      "  (1): BasicBlock(\n",
      "    (conv1): Conv2d(128, 128, kernel_size=(3, 3), stride=(1, 1), padding=(1, 1), bias=False)\n",
      "    (bn1): BatchNorm2d(128, eps=1e-05, momentum=0.1, affine=True, track_running_stats=True)\n",
      "    (relu): ReLU(inplace=True)\n",
      "    (conv2): Conv2d(128, 128, kernel_size=(3, 3), stride=(1, 1), padding=(1, 1), bias=False)\n",
      "    (bn2): BatchNorm2d(128, eps=1e-05, momentum=0.1, affine=True, track_running_stats=True)\n",
      "  )\n",
      "), Sequential(\n",
      "  (0): BasicBlock(\n",
      "    (conv1): Conv2d(128, 256, kernel_size=(3, 3), stride=(2, 2), padding=(1, 1), bias=False)\n",
      "    (bn1): BatchNorm2d(256, eps=1e-05, momentum=0.1, affine=True, track_running_stats=True)\n",
      "    (relu): ReLU(inplace=True)\n",
      "    (conv2): Conv2d(256, 256, kernel_size=(3, 3), stride=(1, 1), padding=(1, 1), bias=False)\n",
      "    (bn2): BatchNorm2d(256, eps=1e-05, momentum=0.1, affine=True, track_running_stats=True)\n",
      "    (downsample): Sequential(\n",
      "      (0): Conv2d(128, 256, kernel_size=(1, 1), stride=(2, 2), bias=False)\n",
      "      (1): BatchNorm2d(256, eps=1e-05, momentum=0.1, affine=True, track_running_stats=True)\n",
      "    )\n",
      "  )\n",
      "  (1): BasicBlock(\n",
      "    (conv1): Conv2d(256, 256, kernel_size=(3, 3), stride=(1, 1), padding=(1, 1), bias=False)\n",
      "    (bn1): BatchNorm2d(256, eps=1e-05, momentum=0.1, affine=True, track_running_stats=True)\n",
      "    (relu): ReLU(inplace=True)\n",
      "    (conv2): Conv2d(256, 256, kernel_size=(3, 3), stride=(1, 1), padding=(1, 1), bias=False)\n",
      "    (bn2): BatchNorm2d(256, eps=1e-05, momentum=0.1, affine=True, track_running_stats=True)\n",
      "  )\n",
      ")]\n"
     ]
    }
   ],
   "source": [
    "resnet_modules = list(resnet.children())[:-3]\n",
    "print(resnet_modules)"
   ]
  },
  {
   "cell_type": "code",
   "execution_count": 16,
   "metadata": {},
   "outputs": [],
   "source": [
    "class CRNN(nn.Module):\n",
    "    def __init__(self, num_chars, hidden_size=256, dropout=0.1):\n",
    "        super(CRNN, self).__init__()\n",
    "        self.num_classes = num_chars\n",
    "        self.hidden_size = hidden_size\n",
    "        self.dropout = dropout\n",
    "        \n",
    "        \n",
    "        # CNN #1 --> Get resnet18 without the last 3 layer\n",
    "        resnet_modules = list(resnet.children())[:-3]\n",
    "        self.cnn_backbone = nn.Sequential(*resnet_modules)\n",
    "        \n",
    "        # CNN #2 --> Add custom layers\n",
    "        self.cnn_custom = nn.Sequential(\n",
    "            nn.Conv2d(in_channels=256, out_channels=256, kernel_size=(3, 6), stride=1, padding=1),\n",
    "            nn.BatchNorm2d(num_features=256),\n",
    "            nn.ReLU(inplace=True)\n",
    "        )\n",
    "        \n",
    "        self.linear1 = nn.Linear(1024, 256)\n",
    "        \n",
    "        # RNN\n",
    "        self.rnn1 = nn.GRU(input_size=self.hidden_size, hidden_size=self.hidden_size, bidirectional=True, batch_first=True)\n",
    "        self.rnn2 = nn.GRU(input_size=self.hidden_size, hidden_size=self.hidden_size, bidirectional=True, batch_first=True)\n",
    "        \n",
    "        self.linear2 = nn.Linear(self.hidden_size*2, self.num_classes)\n",
    "        \n",
    "        \n",
    "    def forward(self, batch):\n",
    "        #  Pass through the first set of CNN layers (ResNet)\n",
    "        x = self.cnn_backbone(batch) \n",
    "        # print(x.size()) # torch.Size([-1, 256, 4, 13])\n",
    "        \n",
    "        # Pass through the second set of custom CNN layers\n",
    "        x = self.cnn_custom(x) # [batch_size, channels, height, width]\n",
    "        # print(x.size())# torch.Size([-1, 256, 4, 10])\n",
    "        \n",
    "        x = x.permute(0, 3, 1, 2)  # Permute dimensions to [batch_size, width, channels, height]\n",
    "        # print(x.size()) # torch.Size([-1, 10, 256, 4])\n",
    "        \n",
    "        batch_size, width, channels, height= x.size()\n",
    "        x = x.view(batch_size, width, -1)  # Reshape to # [batch_size, width, num_features==channels*height]\n",
    "        # print(x.size()) # torch.Size([-1, 10, 1024])\n",
    "         \n",
    "        x = self.linear1(x)  # Pass through the linear layer\n",
    "        # print(x.size()) # torch.Size([-1, 10, 256])\n",
    "        \n",
    "        x, hidden = self.rnn1(x)  # Pass through the first bidirectional GRU layer\n",
    "        feature_size = x.size(2)\n",
    "        x = x[:, :, :feature_size // 2] + x[:, :, feature_size // 2:]  # Combine bidirectional outputs\n",
    "        # print(x.size()) # torch.Size([-1, 10, 256])\n",
    "        \n",
    "        x, hidden = self.rnn2(x)  # Pass through the second bidirectional GRU layer\n",
    "        # print(x.size()) # torch.Size([-1, 10, 512])\n",
    "        \n",
    "        x = self.linear2(x)  # Pass through the final linear layer\n",
    "        # print(x.size()) # torch.Size([-1, 10, 20])\n",
    "        \n",
    "        x = x.permute(1, 0, 2)  # Permute dimensions back to [width, batch_size, num_classes==num_feature]\n",
    "        # print(x.size()) # torch.Size([10, -1, 20])\n",
    "        \n",
    "        return x\n"
   ]
  },
  {
   "cell_type": "code",
   "execution_count": 17,
   "metadata": {},
   "outputs": [
    {
     "name": "stdout",
     "output_type": "stream",
     "text": [
      "Output shape: torch.Size([10, 16, 20])\n"
     ]
    }
   ],
   "source": [
    "# Create dummy input\n",
    "dummy_input = torch.randn(16, 3, 50, 200) # [batch_size, channels, height, width]\n",
    "\n",
    "# Create the model\n",
    "model = CRNN(num_chars=num_chars)\n",
    "\n",
    "# Forward pass\n",
    "output = model(dummy_input)\n",
    "\n",
    "# Print the output shape\n",
    "print(\"Output shape:\", output.shape)"
   ]
  },
  {
   "cell_type": "code",
   "execution_count": 18,
   "metadata": {},
   "outputs": [
    {
     "name": "stdout",
     "output_type": "stream",
     "text": [
      "CRNN(\n",
      "  (cnn_backbone): Sequential(\n",
      "    (0): Conv2d(3, 64, kernel_size=(7, 7), stride=(2, 2), padding=(3, 3), bias=False)\n",
      "    (1): BatchNorm2d(64, eps=1e-05, momentum=0.1, affine=True, track_running_stats=True)\n",
      "    (2): ReLU(inplace=True)\n",
      "    (3): MaxPool2d(kernel_size=3, stride=2, padding=1, dilation=1, ceil_mode=False)\n",
      "    (4): Sequential(\n",
      "      (0): BasicBlock(\n",
      "        (conv1): Conv2d(64, 64, kernel_size=(3, 3), stride=(1, 1), padding=(1, 1), bias=False)\n",
      "        (bn1): BatchNorm2d(64, eps=1e-05, momentum=0.1, affine=True, track_running_stats=True)\n",
      "        (relu): ReLU(inplace=True)\n",
      "        (conv2): Conv2d(64, 64, kernel_size=(3, 3), stride=(1, 1), padding=(1, 1), bias=False)\n",
      "        (bn2): BatchNorm2d(64, eps=1e-05, momentum=0.1, affine=True, track_running_stats=True)\n",
      "      )\n",
      "      (1): BasicBlock(\n",
      "        (conv1): Conv2d(64, 64, kernel_size=(3, 3), stride=(1, 1), padding=(1, 1), bias=False)\n",
      "        (bn1): BatchNorm2d(64, eps=1e-05, momentum=0.1, affine=True, track_running_stats=True)\n",
      "        (relu): ReLU(inplace=True)\n",
      "        (conv2): Conv2d(64, 64, kernel_size=(3, 3), stride=(1, 1), padding=(1, 1), bias=False)\n",
      "        (bn2): BatchNorm2d(64, eps=1e-05, momentum=0.1, affine=True, track_running_stats=True)\n",
      "      )\n",
      "    )\n",
      "    (5): Sequential(\n",
      "      (0): BasicBlock(\n",
      "        (conv1): Conv2d(64, 128, kernel_size=(3, 3), stride=(2, 2), padding=(1, 1), bias=False)\n",
      "        (bn1): BatchNorm2d(128, eps=1e-05, momentum=0.1, affine=True, track_running_stats=True)\n",
      "        (relu): ReLU(inplace=True)\n",
      "        (conv2): Conv2d(128, 128, kernel_size=(3, 3), stride=(1, 1), padding=(1, 1), bias=False)\n",
      "        (bn2): BatchNorm2d(128, eps=1e-05, momentum=0.1, affine=True, track_running_stats=True)\n",
      "        (downsample): Sequential(\n",
      "          (0): Conv2d(64, 128, kernel_size=(1, 1), stride=(2, 2), bias=False)\n",
      "          (1): BatchNorm2d(128, eps=1e-05, momentum=0.1, affine=True, track_running_stats=True)\n",
      "        )\n",
      "      )\n",
      "      (1): BasicBlock(\n",
      "        (conv1): Conv2d(128, 128, kernel_size=(3, 3), stride=(1, 1), padding=(1, 1), bias=False)\n",
      "        (bn1): BatchNorm2d(128, eps=1e-05, momentum=0.1, affine=True, track_running_stats=True)\n",
      "        (relu): ReLU(inplace=True)\n",
      "        (conv2): Conv2d(128, 128, kernel_size=(3, 3), stride=(1, 1), padding=(1, 1), bias=False)\n",
      "        (bn2): BatchNorm2d(128, eps=1e-05, momentum=0.1, affine=True, track_running_stats=True)\n",
      "      )\n",
      "    )\n",
      "    (6): Sequential(\n",
      "      (0): BasicBlock(\n",
      "        (conv1): Conv2d(128, 256, kernel_size=(3, 3), stride=(2, 2), padding=(1, 1), bias=False)\n",
      "        (bn1): BatchNorm2d(256, eps=1e-05, momentum=0.1, affine=True, track_running_stats=True)\n",
      "        (relu): ReLU(inplace=True)\n",
      "        (conv2): Conv2d(256, 256, kernel_size=(3, 3), stride=(1, 1), padding=(1, 1), bias=False)\n",
      "        (bn2): BatchNorm2d(256, eps=1e-05, momentum=0.1, affine=True, track_running_stats=True)\n",
      "        (downsample): Sequential(\n",
      "          (0): Conv2d(128, 256, kernel_size=(1, 1), stride=(2, 2), bias=False)\n",
      "          (1): BatchNorm2d(256, eps=1e-05, momentum=0.1, affine=True, track_running_stats=True)\n",
      "        )\n",
      "      )\n",
      "      (1): BasicBlock(\n",
      "        (conv1): Conv2d(256, 256, kernel_size=(3, 3), stride=(1, 1), padding=(1, 1), bias=False)\n",
      "        (bn1): BatchNorm2d(256, eps=1e-05, momentum=0.1, affine=True, track_running_stats=True)\n",
      "        (relu): ReLU(inplace=True)\n",
      "        (conv2): Conv2d(256, 256, kernel_size=(3, 3), stride=(1, 1), padding=(1, 1), bias=False)\n",
      "        (bn2): BatchNorm2d(256, eps=1e-05, momentum=0.1, affine=True, track_running_stats=True)\n",
      "      )\n",
      "    )\n",
      "  )\n",
      "  (cnn_custom): Sequential(\n",
      "    (0): Conv2d(256, 256, kernel_size=(3, 6), stride=(1, 1), padding=(1, 1))\n",
      "    (1): BatchNorm2d(256, eps=1e-05, momentum=0.1, affine=True, track_running_stats=True)\n",
      "    (2): ReLU(inplace=True)\n",
      "  )\n",
      "  (linear1): Linear(in_features=1024, out_features=256, bias=True)\n",
      "  (rnn1): GRU(256, 256, batch_first=True, bidirectional=True)\n",
      "  (rnn2): GRU(256, 256, batch_first=True, bidirectional=True)\n",
      "  (linear2): Linear(in_features=512, out_features=20, bias=True)\n",
      ")\n",
      "CRNN\n"
     ]
    }
   ],
   "source": [
    "print(model)\n",
    "print(model.__class__.__name__)"
   ]
  },
  {
   "cell_type": "code",
   "execution_count": 19,
   "metadata": {},
   "outputs": [],
   "source": [
    "def initialize_weight(layer):\n",
    "    \"\"\"\n",
    "    Initialize the weights of a neural network layer.\n",
    "\n",
    "    Args:\n",
    "        layer (torch.nn.Module): The layer to initialize.\n",
    "\n",
    "    Returns:\n",
    "        None\n",
    "    \"\"\"\n",
    "    # Extract the class name of the layer\n",
    "    class_name = layer.__class__.__name__\n",
    "\n",
    "    if type(layer) in [nn.Linear, nn.Conv2d, nn.Conv1d]:\n",
    "        # Xavier/Glorot initialization for Linear and Convolutional layers\n",
    "        torch.nn.init.xavier_uniform_(layer.weight)\n",
    "        \n",
    "        if layer.bias is not None:\n",
    "            # Set biases to a constant value (0.01)\n",
    "            layer.bias.data.fill_(0.01)\n",
    "    \n",
    "    elif class_name.find('BatchNorm') != -1:\n",
    "        # Normal initialization for BatchNorm layers\n",
    "        layer.weight.data.normal_(1.0, 2.0)\n",
    "        \n",
    "        if layer.bias is not None:\n",
    "            # Set biases to a constant value (0)\n",
    "            layer.bias.data.fill_(0)\n"
   ]
  },
  {
   "cell_type": "code",
   "execution_count": 20,
   "metadata": {},
   "outputs": [
    {
     "name": "stdout",
     "output_type": "stream",
     "text": [
      "CRNN(\n",
      "  (cnn_backbone): Sequential(\n",
      "    (0): Conv2d(3, 64, kernel_size=(7, 7), stride=(2, 2), padding=(3, 3), bias=False)\n",
      "    (1): BatchNorm2d(64, eps=1e-05, momentum=0.1, affine=True, track_running_stats=True)\n",
      "    (2): ReLU(inplace=True)\n",
      "    (3): MaxPool2d(kernel_size=3, stride=2, padding=1, dilation=1, ceil_mode=False)\n",
      "    (4): Sequential(\n",
      "      (0): BasicBlock(\n",
      "        (conv1): Conv2d(64, 64, kernel_size=(3, 3), stride=(1, 1), padding=(1, 1), bias=False)\n",
      "        (bn1): BatchNorm2d(64, eps=1e-05, momentum=0.1, affine=True, track_running_stats=True)\n",
      "        (relu): ReLU(inplace=True)\n",
      "        (conv2): Conv2d(64, 64, kernel_size=(3, 3), stride=(1, 1), padding=(1, 1), bias=False)\n",
      "        (bn2): BatchNorm2d(64, eps=1e-05, momentum=0.1, affine=True, track_running_stats=True)\n",
      "      )\n",
      "      (1): BasicBlock(\n",
      "        (conv1): Conv2d(64, 64, kernel_size=(3, 3), stride=(1, 1), padding=(1, 1), bias=False)\n",
      "        (bn1): BatchNorm2d(64, eps=1e-05, momentum=0.1, affine=True, track_running_stats=True)\n",
      "        (relu): ReLU(inplace=True)\n",
      "        (conv2): Conv2d(64, 64, kernel_size=(3, 3), stride=(1, 1), padding=(1, 1), bias=False)\n",
      "        (bn2): BatchNorm2d(64, eps=1e-05, momentum=0.1, affine=True, track_running_stats=True)\n",
      "      )\n",
      "    )\n",
      "    (5): Sequential(\n",
      "      (0): BasicBlock(\n",
      "        (conv1): Conv2d(64, 128, kernel_size=(3, 3), stride=(2, 2), padding=(1, 1), bias=False)\n",
      "        (bn1): BatchNorm2d(128, eps=1e-05, momentum=0.1, affine=True, track_running_stats=True)\n",
      "        (relu): ReLU(inplace=True)\n",
      "        (conv2): Conv2d(128, 128, kernel_size=(3, 3), stride=(1, 1), padding=(1, 1), bias=False)\n",
      "        (bn2): BatchNorm2d(128, eps=1e-05, momentum=0.1, affine=True, track_running_stats=True)\n",
      "        (downsample): Sequential(\n",
      "          (0): Conv2d(64, 128, kernel_size=(1, 1), stride=(2, 2), bias=False)\n",
      "          (1): BatchNorm2d(128, eps=1e-05, momentum=0.1, affine=True, track_running_stats=True)\n",
      "        )\n",
      "      )\n",
      "      (1): BasicBlock(\n",
      "        (conv1): Conv2d(128, 128, kernel_size=(3, 3), stride=(1, 1), padding=(1, 1), bias=False)\n",
      "        (bn1): BatchNorm2d(128, eps=1e-05, momentum=0.1, affine=True, track_running_stats=True)\n",
      "        (relu): ReLU(inplace=True)\n",
      "        (conv2): Conv2d(128, 128, kernel_size=(3, 3), stride=(1, 1), padding=(1, 1), bias=False)\n",
      "        (bn2): BatchNorm2d(128, eps=1e-05, momentum=0.1, affine=True, track_running_stats=True)\n",
      "      )\n",
      "    )\n",
      "    (6): Sequential(\n",
      "      (0): BasicBlock(\n",
      "        (conv1): Conv2d(128, 256, kernel_size=(3, 3), stride=(2, 2), padding=(1, 1), bias=False)\n",
      "        (bn1): BatchNorm2d(256, eps=1e-05, momentum=0.1, affine=True, track_running_stats=True)\n",
      "        (relu): ReLU(inplace=True)\n",
      "        (conv2): Conv2d(256, 256, kernel_size=(3, 3), stride=(1, 1), padding=(1, 1), bias=False)\n",
      "        (bn2): BatchNorm2d(256, eps=1e-05, momentum=0.1, affine=True, track_running_stats=True)\n",
      "        (downsample): Sequential(\n",
      "          (0): Conv2d(128, 256, kernel_size=(1, 1), stride=(2, 2), bias=False)\n",
      "          (1): BatchNorm2d(256, eps=1e-05, momentum=0.1, affine=True, track_running_stats=True)\n",
      "        )\n",
      "      )\n",
      "      (1): BasicBlock(\n",
      "        (conv1): Conv2d(256, 256, kernel_size=(3, 3), stride=(1, 1), padding=(1, 1), bias=False)\n",
      "        (bn1): BatchNorm2d(256, eps=1e-05, momentum=0.1, affine=True, track_running_stats=True)\n",
      "        (relu): ReLU(inplace=True)\n",
      "        (conv2): Conv2d(256, 256, kernel_size=(3, 3), stride=(1, 1), padding=(1, 1), bias=False)\n",
      "        (bn2): BatchNorm2d(256, eps=1e-05, momentum=0.1, affine=True, track_running_stats=True)\n",
      "      )\n",
      "    )\n",
      "  )\n",
      "  (cnn_custom): Sequential(\n",
      "    (0): Conv2d(256, 256, kernel_size=(3, 6), stride=(1, 1), padding=(1, 1))\n",
      "    (1): BatchNorm2d(256, eps=1e-05, momentum=0.1, affine=True, track_running_stats=True)\n",
      "    (2): ReLU(inplace=True)\n",
      "  )\n",
      "  (linear1): Linear(in_features=1024, out_features=256, bias=True)\n",
      "  (rnn1): GRU(256, 256, batch_first=True, bidirectional=True)\n",
      "  (rnn2): GRU(256, 256, batch_first=True, bidirectional=True)\n",
      "  (linear2): Linear(in_features=512, out_features=20, bias=True)\n",
      ")\n"
     ]
    }
   ],
   "source": [
    "hidden_size = 256\n",
    "\n",
    "crnn = CRNN(num_chars=num_chars, hidden_size=hidden_size)\n",
    "crnn.apply(initialize_weight)\n",
    "crnn.to(DEVICE)\n",
    "print(crnn)"
   ]
  },
  {
   "cell_type": "code",
   "execution_count": 21,
   "metadata": {},
   "outputs": [
    {
     "name": "stdout",
     "output_type": "stream",
     "text": [
      "('53wb8', 'gd8fb', 'cpe63', 'm5meg', 'e2mg2', '56m6y', '7gce6', 'n3bm6', 'pnmxf', 'ffd6p', '5n245', 'mc35n', 'w2n7e', '8g4yp', 'wwmn6', '4egem')\n",
      "torch.Size([10, 16, 20])\n"
     ]
    }
   ],
   "source": [
    "text_batch_logits = crnn(image_batch.to(DEVICE))\n",
    "\n",
    "print(text_batch)\n",
    "print(text_batch_logits.shape)"
   ]
  },
  {
   "cell_type": "markdown",
   "metadata": {},
   "source": [
    "### Loss Function"
   ]
  },
  {
   "cell_type": "code",
   "execution_count": 22,
   "metadata": {},
   "outputs": [],
   "source": [
    "criterion = nn.CTCLoss(blank=0)"
   ]
  },
  {
   "cell_type": "code",
   "execution_count": 23,
   "metadata": {},
   "outputs": [
    {
     "name": "stdout",
     "output_type": "stream",
     "text": [
      "('53wb8', 'gd8fb', 'cpe63', 'm5meg', 'e2mg2', '56m6y', '7gce6', 'n3bm6', 'pnmxf', 'ffd6p', '5n245', 'mc35n', 'w2n7e', '8g4yp', 'wwmn6', '4egem')\n"
     ]
    },
    {
     "data": {
      "text/plain": [
       "(tensor([ 4,  2, 17,  8,  7, 13, 10,  7, 12,  8,  9, 16, 11,  5,  2, 14,  4, 14,\n",
       "         11, 13, 11,  1, 14, 13,  1,  4,  5, 14,  5, 19,  6, 13,  9, 11,  5, 15,\n",
       "          2,  8, 14,  5, 16, 15, 14, 18, 12, 12, 12, 10,  5, 16,  4, 15,  1,  3,\n",
       "          4, 14,  9,  2,  4, 15, 17,  1, 15,  6, 11,  7, 13,  3, 19, 16, 17, 17,\n",
       "         14, 15,  5,  3, 11, 13, 11, 14], dtype=torch.int32),\n",
       " tensor([5, 5, 5, 5, 5, 5, 5, 5, 5, 5, 5, 5, 5, 5, 5, 5], dtype=torch.int32))"
      ]
     },
     "execution_count": 23,
     "metadata": {},
     "output_type": "execute_result"
    }
   ],
   "source": [
    "def encode_text_batch(text_batch):\n",
    "    \"\"\"\n",
    "    Encode a list of string labels into a format suitable for training a neural network.\n",
    "\n",
    "    Args:\n",
    "        labels (list): List of string labels.\n",
    "        mapping (dict): A dictionary mapping characters to numerical values.\n",
    "\n",
    "    Returns:\n",
    "        tuple: Tuple containing encoded targets (torch.Tensor) and lengths of each original label (torch.Tensor).\n",
    "    \"\"\"\n",
    "    \n",
    "    text_batch_targets_lens = [len(label) for label in text_batch] # Calculate the lengths of each label in the batch\n",
    "    text_batch_targets_lens = torch.IntTensor(text_batch_targets_lens) # Convert the list of lengths to a PyTorch IntTensor\n",
    "    \n",
    "    text_batch_concat = ''.join(text_batch) # Concatenate all labels into a single string\n",
    "    \n",
    "    text_batch_targets = [char2idx[char] for char in text_batch_concat] # Map characters to numerical values using the provided mapping\n",
    "    text_batch_targets = torch.IntTensor(text_batch_targets)  # Convert the list of targets to a PyTorch IntTensor\n",
    "    \n",
    "    # Return a tuple containing the encoded targets and lengths\n",
    "    return text_batch_targets, text_batch_targets_lens\n",
    "\n",
    "print(text_batch)\n",
    "encode_text_batch(text_batch)"
   ]
  },
  {
   "cell_type": "code",
   "execution_count": 24,
   "metadata": {},
   "outputs": [
    {
     "data": {
      "text/plain": [
       "tensor(4.4116, device='cuda:0', grad_fn=<MeanBackward0>)"
      ]
     },
     "execution_count": 24,
     "metadata": {},
     "output_type": "execute_result"
    }
   ],
   "source": [
    "def compute_loss(text_batch, text_batch_logits):\n",
    "    \"\"\"\n",
    "    Compute the loss between predicted and ground truth sequences.\n",
    "\n",
    "    Args:\n",
    "        text_batch (list): List of strings of length equal to batch size\n",
    "        text_bath_logits (torch.Tensor): Predicted logits from the model with Tensor of size ([T==width, batch_size, num_classes]).\n",
    "\n",
    "    Returns:\n",
    "        torch.Tensor: The computed loss.\n",
    "    \"\"\"\n",
    "    # Apply log_softmax to the predicted logits\n",
    "    text_batch_logps = F.log_softmax(text_batch_logits, 2) # [T==width, batch_size, num_classes]\n",
    "\n",
    "    # Create a tensor for predicted label lengths\n",
    "    text_batch_logps_lens = torch.full(size=(text_batch_logps.size(1),),\n",
    "                                       fill_value=text_batch_logps.size(0),\n",
    "                                       dtype=torch.int32).to(DEVICE)\n",
    "    # print(text_batch_logps.shape)\n",
    "    # print(text_batch_logps_lens)\n",
    "\n",
    "    # Encode ground truth text batch and lengths using encode_text_batch function \n",
    "    text_batch_targets, text_batch_targets_lens = encode_text_batch(text_batch)\n",
    "\n",
    "    # print(text_batch_targets)\n",
    "    # print(text_batch_targets_lens)\n",
    "    loss = criterion(text_batch_logps, text_batch_targets, text_batch_logps_lens, text_batch_targets_lens)\n",
    "\n",
    "    return loss\n",
    "\n",
    "    \n",
    "compute_loss(text_batch, text_batch_logits)"
   ]
  },
  {
   "cell_type": "markdown",
   "metadata": {},
   "source": [
    "### Train the model"
   ]
  },
  {
   "cell_type": "code",
   "execution_count": 25,
   "metadata": {},
   "outputs": [],
   "source": [
    "optimizer = optim.Adam(crnn.parameters(), lr=LEARNING_RATE, weight_decay=WEIGHT_DECAY)\n",
    "lr_scheduler = optim.lr_scheduler.ReduceLROnPlateau(optimizer, verbose=True, patience=5)"
   ]
  },
  {
   "cell_type": "code",
   "execution_count": 27,
   "metadata": {},
   "outputs": [
    {
     "data": {
      "application/vnd.jupyter.widget-view+json": {
       "model_id": "87494b8560df4c4c9a7fb9770bccbc08",
       "version_major": 2,
       "version_minor": 0
      },
      "text/plain": [
       "  0%|          | 0/10 [00:00<?, ?it/s]"
      ]
     },
     "metadata": {},
     "output_type": "display_data"
    },
    {
     "data": {
      "application/vnd.jupyter.widget-view+json": {
       "model_id": "560d0c77411544eda5e41015ce6b83a4",
       "version_major": 2,
       "version_minor": 0
      },
      "text/plain": [
       "  0%|          | 0/49 [00:00<?, ?it/s]"
      ]
     },
     "metadata": {},
     "output_type": "display_data"
    },
    {
     "name": "stdout",
     "output_type": "stream",
     "text": [
      "Epoch: 1  Train_loss: 2.868611204380892  Num_updates: 49\n",
      "Epoch: 1  Val_loss: 3.0508061717538273  Num_updates: 17\n"
     ]
    },
    {
     "data": {
      "application/vnd.jupyter.widget-view+json": {
       "model_id": "b9f78e2142a0490ab9ac1e37b5a2a9fd",
       "version_major": 2,
       "version_minor": 0
      },
      "text/plain": [
       "  0%|          | 0/49 [00:00<?, ?it/s]"
      ]
     },
     "metadata": {},
     "output_type": "display_data"
    },
    {
     "name": "stdout",
     "output_type": "stream",
     "text": [
      "Epoch: 2  Train_loss: 2.2427782963733285  Num_updates: 49\n",
      "Epoch: 2  Val_loss: 2.1165676958420696  Num_updates: 17\n"
     ]
    },
    {
     "data": {
      "application/vnd.jupyter.widget-view+json": {
       "model_id": "0790b6357b2749fc95bde90e0226ac01",
       "version_major": 2,
       "version_minor": 0
      },
      "text/plain": [
       "  0%|          | 0/49 [00:00<?, ?it/s]"
      ]
     },
     "metadata": {},
     "output_type": "display_data"
    },
    {
     "name": "stdout",
     "output_type": "stream",
     "text": [
      "Epoch: 3  Train_loss: 1.8035190835291026  Num_updates: 49\n",
      "Epoch: 3  Val_loss: 1.5381902386160458  Num_updates: 17\n"
     ]
    },
    {
     "data": {
      "application/vnd.jupyter.widget-view+json": {
       "model_id": "f055376a6f67464b990ff004de4dc5f8",
       "version_major": 2,
       "version_minor": 0
      },
      "text/plain": [
       "  0%|          | 0/49 [00:00<?, ?it/s]"
      ]
     },
     "metadata": {},
     "output_type": "display_data"
    },
    {
     "name": "stdout",
     "output_type": "stream",
     "text": [
      "Epoch: 4  Train_loss: 1.2849395737356069  Num_updates: 49\n",
      "Epoch: 4  Val_loss: 1.4072879833333634  Num_updates: 17\n"
     ]
    },
    {
     "data": {
      "application/vnd.jupyter.widget-view+json": {
       "model_id": "289d75ef24744431bab1268045f9eaed",
       "version_major": 2,
       "version_minor": 0
      },
      "text/plain": [
       "  0%|          | 0/49 [00:00<?, ?it/s]"
      ]
     },
     "metadata": {},
     "output_type": "display_data"
    },
    {
     "name": "stdout",
     "output_type": "stream",
     "text": [
      "Epoch: 5  Train_loss: 0.8913900499441185  Num_updates: 49\n",
      "Epoch: 5  Val_loss: 0.9184256686883814  Num_updates: 17\n"
     ]
    },
    {
     "data": {
      "application/vnd.jupyter.widget-view+json": {
       "model_id": "dff72a0aaadc495999c08f8fab15ab12",
       "version_major": 2,
       "version_minor": 0
      },
      "text/plain": [
       "  0%|          | 0/49 [00:00<?, ?it/s]"
      ]
     },
     "metadata": {},
     "output_type": "display_data"
    },
    {
     "name": "stdout",
     "output_type": "stream",
     "text": [
      "Epoch: 6  Train_loss: 0.5527751977954592  Num_updates: 49\n",
      "Epoch: 6  Val_loss: 0.8000670829240013  Num_updates: 17\n"
     ]
    },
    {
     "data": {
      "application/vnd.jupyter.widget-view+json": {
       "model_id": "a4d4c276e5fd4c07affb8677f6c48173",
       "version_major": 2,
       "version_minor": 0
      },
      "text/plain": [
       "  0%|          | 0/49 [00:00<?, ?it/s]"
      ]
     },
     "metadata": {},
     "output_type": "display_data"
    },
    {
     "name": "stdout",
     "output_type": "stream",
     "text": [
      "Epoch: 7  Train_loss: 0.4116643889217961  Num_updates: 49\n",
      "Epoch: 7  Val_loss: 0.7495833179529976  Num_updates: 17\n"
     ]
    },
    {
     "data": {
      "application/vnd.jupyter.widget-view+json": {
       "model_id": "d410bc46d6cd433bb4a34a3a13e6a2ba",
       "version_major": 2,
       "version_minor": 0
      },
      "text/plain": [
       "  0%|          | 0/49 [00:00<?, ?it/s]"
      ]
     },
     "metadata": {},
     "output_type": "display_data"
    },
    {
     "name": "stdout",
     "output_type": "stream",
     "text": [
      "Epoch: 8  Train_loss: 0.3552744461565602  Num_updates: 49\n",
      "Epoch: 8  Val_loss: 0.554112607941908  Num_updates: 17\n"
     ]
    },
    {
     "data": {
      "application/vnd.jupyter.widget-view+json": {
       "model_id": "d6a65443c0724408b1d011a30d4674c4",
       "version_major": 2,
       "version_minor": 0
      },
      "text/plain": [
       "  0%|          | 0/49 [00:00<?, ?it/s]"
      ]
     },
     "metadata": {},
     "output_type": "display_data"
    },
    {
     "name": "stdout",
     "output_type": "stream",
     "text": [
      "Epoch: 9  Train_loss: 0.2988978717095998  Num_updates: 49\n",
      "Epoch: 9  Val_loss: 0.7982030756333295  Num_updates: 17\n"
     ]
    },
    {
     "data": {
      "application/vnd.jupyter.widget-view+json": {
       "model_id": "3dec2f7e365344ed82914925ded7eebc",
       "version_major": 2,
       "version_minor": 0
      },
      "text/plain": [
       "  0%|          | 0/49 [00:00<?, ?it/s]"
      ]
     },
     "metadata": {},
     "output_type": "display_data"
    },
    {
     "name": "stdout",
     "output_type": "stream",
     "text": [
      "Epoch: 10  Train_loss: 0.22714895770257834  Num_updates: 49\n",
      "Epoch: 10  Val_loss: 0.42486923231798057  Num_updates: 17\n"
     ]
    }
   ],
   "source": [
    "train_losses = []\n",
    "val_losses = []\n",
    "train_epoch_losses = []\n",
    "val_epoch_lossses = []\n",
    "total_train_steps = 0\n",
    "total_val_steps = 0\n",
    "\n",
    "for epoch in tqdm(range(1, NUM_EPOCHS + 1)):\n",
    "    train_steps = 0\n",
    "    val_steps = 0\n",
    "    train_epoch_loss = 0\n",
    "    val_epoch_loss = 0\n",
    "    \n",
    "    crnn.train()\n",
    "    for image_batch, text_batch in tqdm(train_loader, leave=False):\n",
    "        optimizer.zero_grad()\n",
    "        text_batch_logits = crnn(image_batch.to(DEVICE))\n",
    "        loss = compute_loss(text_batch, text_batch_logits) # calculate loss\n",
    "        batch_loss = loss.item()\n",
    "        \n",
    "        if np.isnan(batch_loss) or np.isinf(batch_loss):\n",
    "            continue\n",
    "\n",
    "        train_steps += 1\n",
    "        train_epoch_loss += batch_loss\n",
    "        train_losses.append(batch_loss)\n",
    "        loss.backward() # make backward\n",
    "        nn.utils.clip_grad_norm_(crnn.parameters(), CLIP_NORM)\n",
    "        optimizer.step()\n",
    "\n",
    "    train_loss = train_epoch_loss / len(train_loader)\n",
    "    print(f'Epoch: {epoch}  Train_loss: {train_loss}  Num_updates: {train_steps}')\n",
    "    \n",
    "    with torch.no_grad():\n",
    "        crnn.eval()\n",
    "        for val_image_batch, val_text_batch in test_loader:\n",
    "            val_text_batch_logits = crnn(val_image_batch.to(DEVICE)) # [T, batch_size, num_classes==num_features]\n",
    "            val_loss = compute_loss(val_text_batch,  val_text_batch_logits)\n",
    "            val_epoch_loss += val_loss.item()\n",
    "            val_steps += 1\n",
    "            val_losses.append(val_loss.item())\n",
    "            \n",
    "    val_loss = val_epoch_loss / len(test_loader)\n",
    "    print(f'Epoch: {epoch}  Val_loss: {val_loss}  Num_updates: {val_steps}')\n",
    "    \n",
    "    train_epoch_losses.append(train_loss)\n",
    "    val_epoch_lossses.append(val_loss)\n",
    "\n",
    "    lr_scheduler.step(val_losses[-1])\n",
    "    total_train_steps += train_steps\n",
    "    total_val_steps += val_steps"
   ]
  },
  {
   "cell_type": "code",
   "execution_count": 28,
   "metadata": {},
   "outputs": [
    {
     "data": {
      "image/png": "[encoded data removed]",
      "text/plain": [
       "<Figure size 1200x600 with 2 Axes>"
      ]
     },
     "metadata": {},
     "output_type": "display_data"
    }
   ],
   "source": [
    "# making titles\n",
    "n_steps = 100\n",
    "train_title = f'Epoch:{epoch} | Train Loss:{np.mean(train_losses[-n_steps:]):.6f}'\n",
    "val_title = f'Epoch:{epoch} | Val Loss:{np.mean(val_losses[-n_steps:]):.6f}'\n",
    "\n",
    "fig, ax = plt.subplots(1, 2, figsize=(12, 6))\n",
    "\n",
    "ax[0].plot(train_losses)\n",
    "ax[0].set_title(train_title)\n",
    "ax[0].set_xlabel(f'Iterations(Batch): {total_train_steps}')\n",
    "ax[0].set_ylabel('Train Loss')\n",
    "\n",
    "ax[1].plot(val_losses)\n",
    "ax[1].set_title(val_title)\n",
    "ax[1].set_xlabel(f'Iterations(Batch): {total_val_steps}')\n",
    "ax[1].set_ylabel('Train Loss')\n",
    "\n",
    "plt.show()"
   ]
  },
  {
   "cell_type": "code",
   "execution_count": 29,
   "metadata": {},
   "outputs": [
    {
     "data": {
      "image/png": "[encoded data removed]",
      "text/plain": [
       "<Figure size 1500x500 with 2 Axes>"
      ]
     },
     "metadata": {},
     "output_type": "display_data"
    }
   ],
   "source": [
    "fig, (ax1, ax2) = plt.subplots(1, 2, figsize=(15, 5))\n",
    "\n",
    "ax1.plot(train_epoch_losses)\n",
    "ax1.set_xlabel('Epochs')\n",
    "ax1.set_ylabel('Train Loss')\n",
    "\n",
    "ax2.plot(val_epoch_lossses)\n",
    "ax2.set_xlabel('Epochs')\n",
    "ax2.set_ylabel('Val Loss')\n",
    "\n",
    "plt.show()"
   ]
  },
  {
   "cell_type": "code",
   "execution_count": null,
   "metadata": {},
   "outputs": [],
   "source": [
    "# epoch_losses = []\n",
    "# batch_losses = []\n",
    "# total_steps = []\n",
    "\n",
    "# for epoch in tqdm(range(1, NUM_EPOCHS + 1)):\n",
    "#     epoch_loss_list = []\n",
    "#     num_steps = 0\n",
    "\n",
    "#     for image_batch, text_batch in tqdm(train_loader, leave=False):\n",
    "#         optimizer.zero_grad()\n",
    "#         text_batch_logits = crnn(image_batch.to(DEVICE))\n",
    "#         loss = compute_loss(text_batch, text_batch_logits)\n",
    "#         batch_loss = loss.item()\n",
    "\n",
    "#         if np.isnan(batch_loss) or np.isinf(batch_loss):\n",
    "#             continue\n",
    "\n",
    "#         num_steps += 1\n",
    "#         batch_losses.append(batch_loss)\n",
    "#         epoch_loss_list.append(batch_loss)\n",
    "#         loss.backward()\n",
    "#         nn.utils.clip_grad_norm_(crnn.parameters(), CLIP_NORM)\n",
    "#         optimizer.step()\n",
    "\n",
    "#     epoch_loss = np.mean(epoch_loss_list)\n",
    "#     print(f'Epoch: {epoch}  Loss: {epoch_loss}  Num_updates: {num_steps}')\n",
    "\n",
    "#     epoch_losses.append(epoch_loss)\n",
    "#     total_steps.append(num_steps)\n",
    "#     lr_scheduler.step(epoch_loss)\n",
    "\n",
    "\n",
    "# # Plot Losses\n",
    "# fig, (ax1, ax2) = plt.subplots(1, 2, figsize=(15, 5))\n",
    "\n",
    "# ax1.plot(epoch_losses)\n",
    "# ax1.set_xlabel('Epochs')\n",
    "# ax1.set_ylabel('Loss')\n",
    "\n",
    "# ax2.plot(batch_losses)\n",
    "# ax2.set_xlabel('Iterations(Batch)')\n",
    "# ax2.set_ylabel('Loss')\n",
    "\n",
    "# plt.show()"
   ]
  },
  {
   "cell_type": "markdown",
   "metadata": {},
   "source": [
    "### Predictions"
   ]
  },
  {
   "cell_type": "code",
   "execution_count": 30,
   "metadata": {},
   "outputs": [],
   "source": [
    "def decode_predictions(text_batch_logits):\n",
    "    \"\"\"\n",
    "    Decode predicted text_batch_logits into human-readable format.\n",
    "\n",
    "    Args:\n",
    "        text_batch_logits (torch.Tensor): Predicted logits from the model.\n",
    "\n",
    "    Returns:\n",
    "        list: List of decoded tokens.\n",
    "    \"\"\"\n",
    "    # Apply softmax and get the index of the maximum value along the third dimension\n",
    "    text_batch_tokens = F.softmax(text_batch_logits, 2).argmax(2) # [T, batch_size]\n",
    "    text_batch_tokens = text_batch_tokens.numpy().T # [batch_size, T]\n",
    "\n",
    "    text_batch_tokens_new = []\n",
    "\n",
    "    # Iterate over each token to reconstruct the captcha\n",
    "    for text_token in text_batch_tokens:\n",
    "        text = [idx2char[idx] for idx in text_token]\n",
    "        text = ''.join(text)\n",
    "        text_batch_tokens_new.append(text)\n",
    "        \n",
    "    return text_batch_tokens_new"
   ]
  },
  {
   "cell_type": "code",
   "execution_count": null,
   "metadata": {},
   "outputs": [],
   "source": [
    "def decode_predictions_beam_search(text_batch_logits, idx2char, beam_width=5):\n",
    "    \"\"\"\n",
    "    Decode predicted text_batch_logits into human-readable format using beam search.\n",
    "\n",
    "    Args:\n",
    "        text_batch_logits (torch.Tensor): Predicted logits from the model.\n",
    "        idx2char (dict): A dictionary mapping token indices to corresponding characters.\n",
    "        beam_width (int): Width of the beam for beam search.\n",
    "\n",
    "    Returns:\n",
    "        list: List of decoded tokens.\n",
    "    \"\"\"\n",
    "    # Apply softmax to get probabilities\n",
    "    text_batch_probs = F.softmax(text_batch_logits, 2)  # [T, batch_size, num_classes]\n",
    "\n",
    "    # Initialize beams\n",
    "    beams = [([], 0.0)] * beam_width\n",
    "\n",
    "    # Iterate over each time step\n",
    "    for t in range(text_batch_probs.size(0)):\n",
    "        all_candidates = []\n",
    "\n",
    "        # Iterate over each beam\n",
    "        for beam in beams:\n",
    "            prefix, score = beam\n",
    "\n",
    "            # If the prefix is not empty, get the last token index\n",
    "            if prefix:\n",
    "                last_token = prefix[-1]\n",
    "                last_token_prob = text_batch_probs[t, :, last_token].numpy()\n",
    "                top_candidates = last_token_prob.argsort()[-beam_width:][::-1]\n",
    "            else:\n",
    "                # If the prefix is empty, consider top candidates for the first time step\n",
    "                top_candidates = range(text_batch_probs.size(1))\n",
    "\n",
    "            # Generate new candidates\n",
    "            for candidate in top_candidates:\n",
    "                candidate_prefix = prefix + [candidate]\n",
    "                candidate_score = score + float(text_batch_probs[t, :, candidate].log().item())\n",
    "                all_candidates.append((candidate_prefix, candidate_score))\n",
    "\n",
    "        # Select top beams from all candidates\n",
    "        beams = sorted(all_candidates, key=lambda x: x[1], reverse=True)[:beam_width]\n",
    "\n",
    "    # Convert indices to characters\n",
    "    decoded_texts = [''.join([idx2char[idx] for idx in beam[0]]) for beam in beams]\n",
    "\n",
    "    return decoded_texts\n",
    "\n",
    "# decoded_texts_beam_search = decode_predictions_beam_search(text_batch_logits, idx2char, beam_width=3)"
   ]
  },
  {
   "cell_type": "code",
   "execution_count": 31,
   "metadata": {},
   "outputs": [
    {
     "data": {
      "application/vnd.jupyter.widget-view+json": {
       "model_id": "b467e23482ad4ba38e9b6b56cd3fd32b",
       "version_major": 2,
       "version_minor": 0
      },
      "text/plain": [
       "  0%|          | 0/49 [00:00<?, ?it/s]"
      ]
     },
     "metadata": {},
     "output_type": "display_data"
    }
   ],
   "source": [
    "# Create an empty DataFrame to store the results\n",
    "results_train = pd.DataFrame(columns=['actual', 'prediction'])\n",
    "\n",
    "# Use torch.no_grad() to disable gradient computation during inference\n",
    "with torch.no_grad():\n",
    "    # Iterate over the test loader\n",
    "    for image_batch, text_batch in tqdm(train_loader, leave=True):\n",
    "        # Forward pass to get predictions\n",
    "        text_batch_logits = crnn(image_batch.to(DEVICE)) # [T, batch_size, num_classes==num_features]\n",
    "        text_batch_pred = decode_predictions(text_batch_logits.cpu())  # Decode predicted labels\n",
    "        # print(text_batch, text_batch_pred)\n",
    "        \n",
    "        # Create a DataFrame to store the current batch's results\n",
    "        df = pd.DataFrame(columns=['actual', 'prediction'])\n",
    "        df['actual'] = text_batch\n",
    "        df['prediction'] = text_batch_pred\n",
    "\n",
    "        # Concatenate the current batch's results to the overall results DataFrame\n",
    "        results_train = pd.concat([results_train, df])\n",
    "\n",
    "# Reset the index of the final results DataFrame\n",
    "results_train = results_train.reset_index(drop=True)"
   ]
  },
  {
   "cell_type": "code",
   "execution_count": 32,
   "metadata": {},
   "outputs": [
    {
     "name": "stdout",
     "output_type": "stream",
     "text": [
      "(780, 2)\n"
     ]
    },
    {
     "data": {
      "text/html": [
       "<div>\n",
       "<style scoped>\n",
       "    .dataframe tbody tr th:only-of-type {\n",
       "        vertical-align: middle;\n",
       "    }\n",
       "\n",
       "    .dataframe tbody tr th {\n",
       "        vertical-align: top;\n",
       "    }\n",
       "\n",
       "    .dataframe thead th {\n",
       "        text-align: right;\n",
       "    }\n",
       "</style>\n",
       "<table border=\"1\" class=\"dataframe\">\n",
       "  <thead>\n",
       "    <tr style=\"text-align: right;\">\n",
       "      <th></th>\n",
       "      <th>actual</th>\n",
       "      <th>prediction</th>\n",
       "    </tr>\n",
       "  </thead>\n",
       "  <tbody>\n",
       "    <tr>\n",
       "      <th>0</th>\n",
       "      <td>2nx38</td>\n",
       "      <td>2nx-3----8</td>\n",
       "    </tr>\n",
       "    <tr>\n",
       "      <th>1</th>\n",
       "      <td>mm3nn</td>\n",
       "      <td>m-n3n----n</td>\n",
       "    </tr>\n",
       "    <tr>\n",
       "      <th>2</th>\n",
       "      <td>cen55</td>\n",
       "      <td>ce-n5---55</td>\n",
       "    </tr>\n",
       "    <tr>\n",
       "      <th>3</th>\n",
       "      <td>m5meg</td>\n",
       "      <td>m5n-eg---g</td>\n",
       "    </tr>\n",
       "    <tr>\n",
       "      <th>4</th>\n",
       "      <td>d3c7y</td>\n",
       "      <td>d3cc7----y</td>\n",
       "    </tr>\n",
       "  </tbody>\n",
       "</table>\n",
       "</div>"
      ],
      "text/plain": [
       "  actual  prediction\n",
       "0  2nx38  2nx-3----8\n",
       "1  mm3nn  m-n3n----n\n",
       "2  cen55  ce-n5---55\n",
       "3  m5meg  m5n-eg---g\n",
       "4  d3c7y  d3cc7----y"
      ]
     },
     "execution_count": 32,
     "metadata": {},
     "output_type": "execute_result"
    }
   ],
   "source": [
    "print(results_train.shape)\n",
    "results_train.head()"
   ]
  },
  {
   "cell_type": "code",
   "execution_count": 33,
   "metadata": {},
   "outputs": [
    {
     "data": {
      "application/vnd.jupyter.widget-view+json": {
       "model_id": "66c79c95c69a4f2080fbf54c8f5f1cd8",
       "version_major": 2,
       "version_minor": 0
      },
      "text/plain": [
       "  0%|          | 0/17 [00:00<?, ?it/s]"
      ]
     },
     "metadata": {},
     "output_type": "display_data"
    }
   ],
   "source": [
    "# Create an empty DataFrame to store the results\n",
    "results_test = pd.DataFrame(columns=['actual', 'prediction'])\n",
    "\n",
    "# Use torch.no_grad() to disable gradient computation during inference\n",
    "with torch.no_grad():\n",
    "    # Iterate over the test loader\n",
    "    for image_batch, text_batch in tqdm(test_loader, leave=True):\n",
    "        # Forward pass to get predictions\n",
    "        text_batch_logits = crnn(image_batch.to(DEVICE)) # [T, batch_size, num_classes==num_features]\n",
    "        text_batch_pred = decode_predictions(text_batch_logits.cpu())  # Decode predicted labels\n",
    "        # print(text_batch, text_batch_pred)\n",
    "        \n",
    "        # Create a DataFrame to store the current batch's results\n",
    "        df = pd.DataFrame(columns=['actual', 'prediction'])\n",
    "        df['actual'] = text_batch\n",
    "        df['prediction'] = text_batch_pred\n",
    "\n",
    "        # Concatenate the current batch's results to the overall results DataFrame\n",
    "        results_test = pd.concat([results_test, df])\n",
    "\n",
    "# Reset the index of the final results DataFrame\n",
    "result_test = results_test.reset_index(drop=True)"
   ]
  },
  {
   "cell_type": "code",
   "execution_count": 34,
   "metadata": {},
   "outputs": [
    {
     "name": "stdout",
     "output_type": "stream",
     "text": [
      "(260, 2)\n"
     ]
    },
    {
     "data": {
      "text/html": [
       "<div>\n",
       "<style scoped>\n",
       "    .dataframe tbody tr th:only-of-type {\n",
       "        vertical-align: middle;\n",
       "    }\n",
       "\n",
       "    .dataframe tbody tr th {\n",
       "        vertical-align: top;\n",
       "    }\n",
       "\n",
       "    .dataframe thead th {\n",
       "        text-align: right;\n",
       "    }\n",
       "</style>\n",
       "<table border=\"1\" class=\"dataframe\">\n",
       "  <thead>\n",
       "    <tr style=\"text-align: right;\">\n",
       "      <th></th>\n",
       "      <th>actual</th>\n",
       "      <th>prediction</th>\n",
       "    </tr>\n",
       "  </thead>\n",
       "  <tbody>\n",
       "    <tr>\n",
       "      <th>0</th>\n",
       "      <td>bny4w</td>\n",
       "      <td>bn-y4----w</td>\n",
       "    </tr>\n",
       "    <tr>\n",
       "      <th>1</th>\n",
       "      <td>dce8y</td>\n",
       "      <td>dc-e8----y</td>\n",
       "    </tr>\n",
       "    <tr>\n",
       "      <th>2</th>\n",
       "      <td>nn4wx</td>\n",
       "      <td>m-4-w----x</td>\n",
       "    </tr>\n",
       "    <tr>\n",
       "      <th>3</th>\n",
       "      <td>byc82</td>\n",
       "      <td>by-c8----2</td>\n",
       "    </tr>\n",
       "    <tr>\n",
       "      <th>4</th>\n",
       "      <td>5bb66</td>\n",
       "      <td>5bb-6----6</td>\n",
       "    </tr>\n",
       "  </tbody>\n",
       "</table>\n",
       "</div>"
      ],
      "text/plain": [
       "  actual  prediction\n",
       "0  bny4w  bn-y4----w\n",
       "1  dce8y  dc-e8----y\n",
       "2  nn4wx  m-4-w----x\n",
       "3  byc82  by-c8----2\n",
       "4  5bb66  5bb-6----6"
      ]
     },
     "execution_count": 34,
     "metadata": {},
     "output_type": "execute_result"
    }
   ],
   "source": [
    "print(results_test.shape)\n",
    "results_test.head()"
   ]
  },
  {
   "cell_type": "code",
   "execution_count": 35,
   "metadata": {},
   "outputs": [],
   "source": [
    "def remove_duplicates(text):\n",
    "    \"\"\"\n",
    "    Remove consecutive duplicate characters from a given text.\n",
    "\n",
    "    Args:\n",
    "        text (str): Input text.\n",
    "\n",
    "    Returns:\n",
    "        str: Text with consecutive duplicate characters removed.\n",
    "    \"\"\"\n",
    "    if len(text) > 1:\n",
    "        # Keep the first occurrence and remove consecutive duplicates\n",
    "        letters = [text[0]] + [letter for idx, letter in enumerate(text[1:], start=1) if text[idx] != text[idx - 1]]\n",
    "    elif len(text) == 1:\n",
    "        # For a single character, keep it\n",
    "        letters = [text[0]]\n",
    "    else:\n",
    "        return \"\"\n",
    "    return \"\".join(letters)\n",
    "\n",
    "\n",
    "def correct_prediction(word):\n",
    "    \"\"\"\n",
    "    Correct a predicted word containing hyphens by removing consecutive duplicate characters.\n",
    "\n",
    "    Args:\n",
    "        word (str): Predicted word.\n",
    "\n",
    "    Returns:\n",
    "        str: Corrected word.\n",
    "    \"\"\"\n",
    "    # Split the word by hyphens and remove consecutive duplicates in each part\n",
    "    parts = word.split('-')\n",
    "    parts = [remove_duplicates(part) for part in parts]\n",
    "    corrected_word = ''.join(parts)\n",
    "    return corrected_word"
   ]
  },
  {
   "cell_type": "code",
   "execution_count": 36,
   "metadata": {},
   "outputs": [
    {
     "data": {
      "text/html": [
       "<div>\n",
       "<style scoped>\n",
       "    .dataframe tbody tr th:only-of-type {\n",
       "        vertical-align: middle;\n",
       "    }\n",
       "\n",
       "    .dataframe tbody tr th {\n",
       "        vertical-align: top;\n",
       "    }\n",
       "\n",
       "    .dataframe thead th {\n",
       "        text-align: right;\n",
       "    }\n",
       "</style>\n",
       "<table border=\"1\" class=\"dataframe\">\n",
       "  <thead>\n",
       "    <tr style=\"text-align: right;\">\n",
       "      <th></th>\n",
       "      <th>actual</th>\n",
       "      <th>prediction</th>\n",
       "      <th>prediction_corrected</th>\n",
       "    </tr>\n",
       "  </thead>\n",
       "  <tbody>\n",
       "    <tr>\n",
       "      <th>0</th>\n",
       "      <td>2nx38</td>\n",
       "      <td>2nx-3----8</td>\n",
       "      <td>2nx38</td>\n",
       "    </tr>\n",
       "    <tr>\n",
       "      <th>1</th>\n",
       "      <td>mm3nn</td>\n",
       "      <td>m-n3n----n</td>\n",
       "      <td>mn3nn</td>\n",
       "    </tr>\n",
       "    <tr>\n",
       "      <th>2</th>\n",
       "      <td>cen55</td>\n",
       "      <td>ce-n5---55</td>\n",
       "      <td>cen55</td>\n",
       "    </tr>\n",
       "    <tr>\n",
       "      <th>3</th>\n",
       "      <td>m5meg</td>\n",
       "      <td>m5n-eg---g</td>\n",
       "      <td>m5negg</td>\n",
       "    </tr>\n",
       "    <tr>\n",
       "      <th>4</th>\n",
       "      <td>d3c7y</td>\n",
       "      <td>d3cc7----y</td>\n",
       "      <td>d3c7y</td>\n",
       "    </tr>\n",
       "  </tbody>\n",
       "</table>\n",
       "</div>"
      ],
      "text/plain": [
       "  actual  prediction prediction_corrected\n",
       "0  2nx38  2nx-3----8                2nx38\n",
       "1  mm3nn  m-n3n----n                mn3nn\n",
       "2  cen55  ce-n5---55                cen55\n",
       "3  m5meg  m5n-eg---g               m5negg\n",
       "4  d3c7y  d3cc7----y                d3c7y"
      ]
     },
     "execution_count": 36,
     "metadata": {},
     "output_type": "execute_result"
    }
   ],
   "source": [
    "results_train['prediction_corrected'] = results_train['prediction'].apply(correct_prediction)\n",
    "results_train.head()"
   ]
  },
  {
   "cell_type": "code",
   "execution_count": 37,
   "metadata": {},
   "outputs": [
    {
     "data": {
      "text/html": [
       "<div>\n",
       "<style scoped>\n",
       "    .dataframe tbody tr th:only-of-type {\n",
       "        vertical-align: middle;\n",
       "    }\n",
       "\n",
       "    .dataframe tbody tr th {\n",
       "        vertical-align: top;\n",
       "    }\n",
       "\n",
       "    .dataframe thead th {\n",
       "        text-align: right;\n",
       "    }\n",
       "</style>\n",
       "<table border=\"1\" class=\"dataframe\">\n",
       "  <thead>\n",
       "    <tr style=\"text-align: right;\">\n",
       "      <th></th>\n",
       "      <th>actual</th>\n",
       "      <th>prediction</th>\n",
       "      <th>prediction_corrected</th>\n",
       "    </tr>\n",
       "  </thead>\n",
       "  <tbody>\n",
       "    <tr>\n",
       "      <th>0</th>\n",
       "      <td>bny4w</td>\n",
       "      <td>bn-y4----w</td>\n",
       "      <td>bny4w</td>\n",
       "    </tr>\n",
       "    <tr>\n",
       "      <th>1</th>\n",
       "      <td>dce8y</td>\n",
       "      <td>dc-e8----y</td>\n",
       "      <td>dce8y</td>\n",
       "    </tr>\n",
       "    <tr>\n",
       "      <th>2</th>\n",
       "      <td>nn4wx</td>\n",
       "      <td>m-4-w----x</td>\n",
       "      <td>m4wx</td>\n",
       "    </tr>\n",
       "    <tr>\n",
       "      <th>3</th>\n",
       "      <td>byc82</td>\n",
       "      <td>by-c8----2</td>\n",
       "      <td>byc82</td>\n",
       "    </tr>\n",
       "    <tr>\n",
       "      <th>4</th>\n",
       "      <td>5bb66</td>\n",
       "      <td>5bb-6----6</td>\n",
       "      <td>5b66</td>\n",
       "    </tr>\n",
       "  </tbody>\n",
       "</table>\n",
       "</div>"
      ],
      "text/plain": [
       "  actual  prediction prediction_corrected\n",
       "0  bny4w  bn-y4----w                bny4w\n",
       "1  dce8y  dc-e8----y                dce8y\n",
       "2  nn4wx  m-4-w----x                 m4wx\n",
       "3  byc82  by-c8----2                byc82\n",
       "4  5bb66  5bb-6----6                 5b66"
      ]
     },
     "execution_count": 37,
     "metadata": {},
     "output_type": "execute_result"
    }
   ],
   "source": [
    "results_test['prediction_corrected'] = results_test['prediction'].apply(correct_prediction)\n",
    "results_test.head()"
   ]
  },
  {
   "cell_type": "code",
   "execution_count": 49,
   "metadata": {},
   "outputs": [
    {
     "data": {
      "text/plain": [
       "(tensor([[[1.1700, 1.1700, 1.1700,  ..., 2.1804, 2.1804, 2.1804],\n",
       "          [1.1700, 1.1700, 1.1700,  ..., 2.1804, 2.1804, 2.1804],\n",
       "          [1.1700, 1.1700, 1.1700,  ..., 2.1804, 2.1804, 2.1804],\n",
       "          ...,\n",
       "          [1.2214, 1.2214, 1.2214,  ..., 2.2318, 2.2318, 2.2318],\n",
       "          [1.2214, 1.2214, 1.2214,  ..., 2.2318, 2.2318, 2.2318],\n",
       "          [1.2214, 1.2214, 1.2214,  ..., 2.2318, 2.2318, 2.2318]],\n",
       " \n",
       "         [[1.3256, 1.3256, 1.3256,  ..., 2.3585, 2.3585, 2.3585],\n",
       "          [1.3256, 1.3256, 1.3256,  ..., 2.3585, 2.3585, 2.3585],\n",
       "          [1.3256, 1.3256, 1.3256,  ..., 2.3585, 2.3585, 2.3585],\n",
       "          ...,\n",
       "          [1.3782, 1.3782, 1.3782,  ..., 2.4111, 2.4111, 2.4111],\n",
       "          [1.3782, 1.3782, 1.3782,  ..., 2.4111, 2.4111, 2.4111],\n",
       "          [1.3782, 1.3782, 1.3782,  ..., 2.4111, 2.4111, 2.4111]],\n",
       " \n",
       "         [[1.5420, 1.5420, 1.5420,  ..., 2.5703, 2.5703, 2.5703],\n",
       "          [1.5420, 1.5420, 1.5420,  ..., 2.5703, 2.5703, 2.5703],\n",
       "          [1.5420, 1.5420, 1.5420,  ..., 2.5703, 2.5703, 2.5703],\n",
       "          ...,\n",
       "          [1.5942, 1.5942, 1.5942,  ..., 2.6226, 2.6226, 2.6226],\n",
       "          [1.5942, 1.5942, 1.5942,  ..., 2.6226, 2.6226, 2.6226],\n",
       "          [1.5942, 1.5942, 1.5942,  ..., 2.6226, 2.6226, 2.6226]]]),\n",
       " 'bny4w')"
      ]
     },
     "execution_count": 49,
     "metadata": {},
     "output_type": "execute_result"
    }
   ],
   "source": [
    "test_dataset[0]"
   ]
  },
  {
   "cell_type": "code",
   "execution_count": 75,
   "metadata": {},
   "outputs": [
    {
     "name": "stderr",
     "output_type": "stream",
     "text": [
      "Clipping input data to the valid range for imshow with RGB data ([0..1] for floats or [0..255] for integers).\n"
     ]
    },
    {
     "data": {
      "image/png": "[encoded data removed]",
      "text/plain": [
       "<Figure size 640x480 with 1 Axes>"
      ]
     },
     "metadata": {},
     "output_type": "display_data"
    }
   ],
   "source": [
    "def print_prediction(model, dataset):\n",
    "    idx = np.random.randint(len(dataset))\n",
    "    \n",
    "    with torch.no_grad():\n",
    "        model.eval()\n",
    "        img, target_text = dataset[idx]\n",
    "        batch_img = img.unsqueeze(0)\n",
    "        logits = model(batch_img.to(DEVICE))\n",
    "        \n",
    "    pred_text = decode_predictions(logits.cpu())\n",
    "    img = img.permute(1, 2, 0) # channels last\n",
    "    title = f'Truth: {target_text} | Pred: {pred_text}'\n",
    "    plt.imshow(img)\n",
    "    plt.title(title)\n",
    "    plt.axis('off');\n",
    "    \n",
    "print_prediction(crnn, test_dataset)"
   ]
  },
  {
   "cell_type": "code",
   "execution_count": null,
   "metadata": {},
   "outputs": [],
   "source": []
  },
  {
   "cell_type": "markdown",
   "metadata": {},
   "source": [
    "### Evaluate the model"
   ]
  },
  {
   "cell_type": "code",
   "execution_count": 38,
   "metadata": {},
   "outputs": [
    {
     "data": {
      "text/html": [
       "<div>\n",
       "<style scoped>\n",
       "    .dataframe tbody tr th:only-of-type {\n",
       "        vertical-align: middle;\n",
       "    }\n",
       "\n",
       "    .dataframe tbody tr th {\n",
       "        vertical-align: top;\n",
       "    }\n",
       "\n",
       "    .dataframe thead th {\n",
       "        text-align: right;\n",
       "    }\n",
       "</style>\n",
       "<table border=\"1\" class=\"dataframe\">\n",
       "  <thead>\n",
       "    <tr style=\"text-align: right;\">\n",
       "      <th></th>\n",
       "      <th>actual</th>\n",
       "      <th>prediction</th>\n",
       "      <th>prediction_corrected</th>\n",
       "    </tr>\n",
       "  </thead>\n",
       "  <tbody>\n",
       "    <tr>\n",
       "      <th>2</th>\n",
       "      <td>nn4wx</td>\n",
       "      <td>m-4-w----x</td>\n",
       "      <td>m4wx</td>\n",
       "    </tr>\n",
       "    <tr>\n",
       "      <th>4</th>\n",
       "      <td>5bb66</td>\n",
       "      <td>5bb-6----6</td>\n",
       "      <td>5b66</td>\n",
       "    </tr>\n",
       "    <tr>\n",
       "      <th>5</th>\n",
       "      <td>662bw</td>\n",
       "      <td>66-2b----w</td>\n",
       "      <td>62bw</td>\n",
       "    </tr>\n",
       "    <tr>\n",
       "      <th>6</th>\n",
       "      <td>56c34</td>\n",
       "      <td>86c38----4</td>\n",
       "      <td>86c384</td>\n",
       "    </tr>\n",
       "    <tr>\n",
       "      <th>9</th>\n",
       "      <td>5mcy7</td>\n",
       "      <td>5nc-y----7</td>\n",
       "      <td>5ncy7</td>\n",
       "    </tr>\n",
       "    <tr>\n",
       "      <th>...</th>\n",
       "      <td>...</td>\n",
       "      <td>...</td>\n",
       "      <td>...</td>\n",
       "    </tr>\n",
       "    <tr>\n",
       "      <th>7</th>\n",
       "      <td>b3xpn</td>\n",
       "      <td>b3xxpn---n</td>\n",
       "      <td>b3xpnn</td>\n",
       "    </tr>\n",
       "    <tr>\n",
       "      <th>10</th>\n",
       "      <td>pf5ng</td>\n",
       "      <td>pf5nng---g</td>\n",
       "      <td>pf5ngg</td>\n",
       "    </tr>\n",
       "    <tr>\n",
       "      <th>14</th>\n",
       "      <td>ypw3d</td>\n",
       "      <td>yp-w3-----</td>\n",
       "      <td>ypw3</td>\n",
       "    </tr>\n",
       "    <tr>\n",
       "      <th>15</th>\n",
       "      <td>c3n8x</td>\n",
       "      <td>c3n------x</td>\n",
       "      <td>c3nx</td>\n",
       "    </tr>\n",
       "    <tr>\n",
       "      <th>2</th>\n",
       "      <td>b5fm7</td>\n",
       "      <td>b5fn-----7</td>\n",
       "      <td>b5fn7</td>\n",
       "    </tr>\n",
       "  </tbody>\n",
       "</table>\n",
       "<p>119 rows × 3 columns</p>\n",
       "</div>"
      ],
      "text/plain": [
       "   actual  prediction prediction_corrected\n",
       "2   nn4wx  m-4-w----x                 m4wx\n",
       "4   5bb66  5bb-6----6                 5b66\n",
       "5   662bw  66-2b----w                 62bw\n",
       "6   56c34  86c38----4               86c384\n",
       "9   5mcy7  5nc-y----7                5ncy7\n",
       "..    ...         ...                  ...\n",
       "7   b3xpn  b3xxpn---n               b3xpnn\n",
       "10  pf5ng  pf5nng---g               pf5ngg\n",
       "14  ypw3d  yp-w3-----                 ypw3\n",
       "15  c3n8x  c3n------x                 c3nx\n",
       "2   b5fm7  b5fn-----7                b5fn7\n",
       "\n",
       "[119 rows x 3 columns]"
      ]
     },
     "execution_count": 38,
     "metadata": {},
     "output_type": "execute_result"
    }
   ],
   "source": [
    "mistakes_df = results_test[results_test['actual'] != results_test['prediction_corrected']]\n",
    "mistakes_df"
   ]
  },
  {
   "cell_type": "code",
   "execution_count": 39,
   "metadata": {},
   "outputs": [
    {
     "name": "stdout",
     "output_type": "stream",
     "text": [
      "prediction_corrected\n",
      "4    51\n",
      "5    44\n",
      "6    19\n",
      "3     4\n",
      "7     1\n",
      "Name: count, dtype: int64\n"
     ]
    }
   ],
   "source": [
    "print(mistakes_df['prediction_corrected'].str.len().value_counts())"
   ]
  },
  {
   "cell_type": "code",
   "execution_count": 40,
   "metadata": {},
   "outputs": [
    {
     "data": {
      "text/html": [
       "<div>\n",
       "<style scoped>\n",
       "    .dataframe tbody tr th:only-of-type {\n",
       "        vertical-align: middle;\n",
       "    }\n",
       "\n",
       "    .dataframe tbody tr th {\n",
       "        vertical-align: top;\n",
       "    }\n",
       "\n",
       "    .dataframe thead th {\n",
       "        text-align: right;\n",
       "    }\n",
       "</style>\n",
       "<table border=\"1\" class=\"dataframe\">\n",
       "  <thead>\n",
       "    <tr style=\"text-align: right;\">\n",
       "      <th></th>\n",
       "      <th>actual</th>\n",
       "      <th>prediction</th>\n",
       "      <th>prediction_corrected</th>\n",
       "    </tr>\n",
       "  </thead>\n",
       "  <tbody>\n",
       "    <tr>\n",
       "      <th>9</th>\n",
       "      <td>5mcy7</td>\n",
       "      <td>5nc-y----7</td>\n",
       "      <td>5ncy7</td>\n",
       "    </tr>\n",
       "    <tr>\n",
       "      <th>10</th>\n",
       "      <td>cdcb3</td>\n",
       "      <td>ed-cb----3</td>\n",
       "      <td>edcb3</td>\n",
       "    </tr>\n",
       "    <tr>\n",
       "      <th>11</th>\n",
       "      <td>25egp</td>\n",
       "      <td>25e-p----y</td>\n",
       "      <td>25epy</td>\n",
       "    </tr>\n",
       "    <tr>\n",
       "      <th>13</th>\n",
       "      <td>n7enn</td>\n",
       "      <td>n7e-m----n</td>\n",
       "      <td>n7emn</td>\n",
       "    </tr>\n",
       "    <tr>\n",
       "      <th>2</th>\n",
       "      <td>p7fyp</td>\n",
       "      <td>p7-fp----p</td>\n",
       "      <td>p7fpp</td>\n",
       "    </tr>\n",
       "    <tr>\n",
       "      <th>12</th>\n",
       "      <td>wddcp</td>\n",
       "      <td>w-d-dcm---</td>\n",
       "      <td>wddcm</td>\n",
       "    </tr>\n",
       "    <tr>\n",
       "      <th>2</th>\n",
       "      <td>8ypdn</td>\n",
       "      <td>8y-pd----m</td>\n",
       "      <td>8ypdm</td>\n",
       "    </tr>\n",
       "    <tr>\n",
       "      <th>12</th>\n",
       "      <td>n4wwn</td>\n",
       "      <td>m4-m-wm---</td>\n",
       "      <td>m4mwm</td>\n",
       "    </tr>\n",
       "    <tr>\n",
       "      <th>3</th>\n",
       "      <td>bw5nf</td>\n",
       "      <td>b-w5m----f</td>\n",
       "      <td>bw5mf</td>\n",
       "    </tr>\n",
       "    <tr>\n",
       "      <th>6</th>\n",
       "      <td>7gnge</td>\n",
       "      <td>7gm-g----e</td>\n",
       "      <td>7gmge</td>\n",
       "    </tr>\n",
       "    <tr>\n",
       "      <th>8</th>\n",
       "      <td>mwxwp</td>\n",
       "      <td>m--mxm-p--</td>\n",
       "      <td>mmxmp</td>\n",
       "    </tr>\n",
       "    <tr>\n",
       "      <th>9</th>\n",
       "      <td>m3b5p</td>\n",
       "      <td>m-3b67----</td>\n",
       "      <td>m3b67</td>\n",
       "    </tr>\n",
       "    <tr>\n",
       "      <th>1</th>\n",
       "      <td>pp87n</td>\n",
       "      <td>pp-87n---n</td>\n",
       "      <td>p87nn</td>\n",
       "    </tr>\n",
       "    <tr>\n",
       "      <th>9</th>\n",
       "      <td>ddcdd</td>\n",
       "      <td>d-dcdd---f</td>\n",
       "      <td>ddcdf</td>\n",
       "    </tr>\n",
       "    <tr>\n",
       "      <th>11</th>\n",
       "      <td>x44n4</td>\n",
       "      <td>x4-4m----4</td>\n",
       "      <td>x44m4</td>\n",
       "    </tr>\n",
       "    <tr>\n",
       "      <th>12</th>\n",
       "      <td>36bc2</td>\n",
       "      <td>3-bec----2</td>\n",
       "      <td>3bec2</td>\n",
       "    </tr>\n",
       "    <tr>\n",
       "      <th>5</th>\n",
       "      <td>2enf4</td>\n",
       "      <td>2em-f----4</td>\n",
       "      <td>2emf4</td>\n",
       "    </tr>\n",
       "    <tr>\n",
       "      <th>10</th>\n",
       "      <td>ywn6f</td>\n",
       "      <td>y-wm-6---f</td>\n",
       "      <td>ywm6f</td>\n",
       "    </tr>\n",
       "    <tr>\n",
       "      <th>12</th>\n",
       "      <td>f83pn</td>\n",
       "      <td>f8-5p----n</td>\n",
       "      <td>f85pn</td>\n",
       "    </tr>\n",
       "    <tr>\n",
       "      <th>0</th>\n",
       "      <td>5nxnn</td>\n",
       "      <td>6nx-n----n</td>\n",
       "      <td>6nxnn</td>\n",
       "    </tr>\n",
       "    <tr>\n",
       "      <th>10</th>\n",
       "      <td>cfn53</td>\n",
       "      <td>cfnn5----8</td>\n",
       "      <td>cfn58</td>\n",
       "    </tr>\n",
       "    <tr>\n",
       "      <th>11</th>\n",
       "      <td>y2xg4</td>\n",
       "      <td>y22xp----4</td>\n",
       "      <td>y2xp4</td>\n",
       "    </tr>\n",
       "    <tr>\n",
       "      <th>5</th>\n",
       "      <td>neggn</td>\n",
       "      <td>nep-g----n</td>\n",
       "      <td>nepgn</td>\n",
       "    </tr>\n",
       "    <tr>\n",
       "      <th>8</th>\n",
       "      <td>ffnxn</td>\n",
       "      <td>ffn-xn---n</td>\n",
       "      <td>fnxnn</td>\n",
       "    </tr>\n",
       "    <tr>\n",
       "      <th>14</th>\n",
       "      <td>mfc35</td>\n",
       "      <td>m-fc33---8</td>\n",
       "      <td>mfc38</td>\n",
       "    </tr>\n",
       "    <tr>\n",
       "      <th>2</th>\n",
       "      <td>2p2y8</td>\n",
       "      <td>2p-2w----8</td>\n",
       "      <td>2p2w8</td>\n",
       "    </tr>\n",
       "    <tr>\n",
       "      <th>6</th>\n",
       "      <td>p8wwf</td>\n",
       "      <td>m88m-w---f</td>\n",
       "      <td>m8mwf</td>\n",
       "    </tr>\n",
       "    <tr>\n",
       "      <th>0</th>\n",
       "      <td>nm248</td>\n",
       "      <td>m-m244---8</td>\n",
       "      <td>mm248</td>\n",
       "    </tr>\n",
       "    <tr>\n",
       "      <th>6</th>\n",
       "      <td>p8c24</td>\n",
       "      <td>m88c2----4</td>\n",
       "      <td>m8c24</td>\n",
       "    </tr>\n",
       "    <tr>\n",
       "      <th>1</th>\n",
       "      <td>gn2xy</td>\n",
       "      <td>pn-2x----y</td>\n",
       "      <td>pn2xy</td>\n",
       "    </tr>\n",
       "    <tr>\n",
       "      <th>8</th>\n",
       "      <td>6mege</td>\n",
       "      <td>6m-e-p---e</td>\n",
       "      <td>6mepe</td>\n",
       "    </tr>\n",
       "    <tr>\n",
       "      <th>4</th>\n",
       "      <td>cfw6e</td>\n",
       "      <td>cf--6e---e</td>\n",
       "      <td>cf6ee</td>\n",
       "    </tr>\n",
       "    <tr>\n",
       "      <th>5</th>\n",
       "      <td>nwncn</td>\n",
       "      <td>n-wmc-m---</td>\n",
       "      <td>nwmcm</td>\n",
       "    </tr>\n",
       "    <tr>\n",
       "      <th>13</th>\n",
       "      <td>p24gn</td>\n",
       "      <td>p2-4p----n</td>\n",
       "      <td>p24pn</td>\n",
       "    </tr>\n",
       "    <tr>\n",
       "      <th>14</th>\n",
       "      <td>7dyww</td>\n",
       "      <td>7dfy-----w</td>\n",
       "      <td>7dfyw</td>\n",
       "    </tr>\n",
       "    <tr>\n",
       "      <th>0</th>\n",
       "      <td>fp3wy</td>\n",
       "      <td>fp-3m----y</td>\n",
       "      <td>fp3my</td>\n",
       "    </tr>\n",
       "    <tr>\n",
       "      <th>1</th>\n",
       "      <td>6pwcn</td>\n",
       "      <td>6p-wccm---</td>\n",
       "      <td>6pwcm</td>\n",
       "    </tr>\n",
       "    <tr>\n",
       "      <th>8</th>\n",
       "      <td>6p2ge</td>\n",
       "      <td>8p-2g----e</td>\n",
       "      <td>8p2ge</td>\n",
       "    </tr>\n",
       "    <tr>\n",
       "      <th>2</th>\n",
       "      <td>fyfbn</td>\n",
       "      <td>fyf-b----m</td>\n",
       "      <td>fyfbm</td>\n",
       "    </tr>\n",
       "    <tr>\n",
       "      <th>3</th>\n",
       "      <td>77387</td>\n",
       "      <td>7738f----7</td>\n",
       "      <td>738f7</td>\n",
       "    </tr>\n",
       "    <tr>\n",
       "      <th>7</th>\n",
       "      <td>cdmn8</td>\n",
       "      <td>cd-n-n---8</td>\n",
       "      <td>cdnn8</td>\n",
       "    </tr>\n",
       "    <tr>\n",
       "      <th>8</th>\n",
       "      <td>ewnx8</td>\n",
       "      <td>em-nx----8</td>\n",
       "      <td>emnx8</td>\n",
       "    </tr>\n",
       "    <tr>\n",
       "      <th>1</th>\n",
       "      <td>mb4en</td>\n",
       "      <td>m-b4-em---</td>\n",
       "      <td>mb4em</td>\n",
       "    </tr>\n",
       "    <tr>\n",
       "      <th>2</th>\n",
       "      <td>b5fm7</td>\n",
       "      <td>b5fn-----7</td>\n",
       "      <td>b5fn7</td>\n",
       "    </tr>\n",
       "  </tbody>\n",
       "</table>\n",
       "</div>"
      ],
      "text/plain": [
       "   actual  prediction prediction_corrected\n",
       "9   5mcy7  5nc-y----7                5ncy7\n",
       "10  cdcb3  ed-cb----3                edcb3\n",
       "11  25egp  25e-p----y                25epy\n",
       "13  n7enn  n7e-m----n                n7emn\n",
       "2   p7fyp  p7-fp----p                p7fpp\n",
       "12  wddcp  w-d-dcm---                wddcm\n",
       "2   8ypdn  8y-pd----m                8ypdm\n",
       "12  n4wwn  m4-m-wm---                m4mwm\n",
       "3   bw5nf  b-w5m----f                bw5mf\n",
       "6   7gnge  7gm-g----e                7gmge\n",
       "8   mwxwp  m--mxm-p--                mmxmp\n",
       "9   m3b5p  m-3b67----                m3b67\n",
       "1   pp87n  pp-87n---n                p87nn\n",
       "9   ddcdd  d-dcdd---f                ddcdf\n",
       "11  x44n4  x4-4m----4                x44m4\n",
       "12  36bc2  3-bec----2                3bec2\n",
       "5   2enf4  2em-f----4                2emf4\n",
       "10  ywn6f  y-wm-6---f                ywm6f\n",
       "12  f83pn  f8-5p----n                f85pn\n",
       "0   5nxnn  6nx-n----n                6nxnn\n",
       "10  cfn53  cfnn5----8                cfn58\n",
       "11  y2xg4  y22xp----4                y2xp4\n",
       "5   neggn  nep-g----n                nepgn\n",
       "8   ffnxn  ffn-xn---n                fnxnn\n",
       "14  mfc35  m-fc33---8                mfc38\n",
       "2   2p2y8  2p-2w----8                2p2w8\n",
       "6   p8wwf  m88m-w---f                m8mwf\n",
       "0   nm248  m-m244---8                mm248\n",
       "6   p8c24  m88c2----4                m8c24\n",
       "1   gn2xy  pn-2x----y                pn2xy\n",
       "8   6mege  6m-e-p---e                6mepe\n",
       "4   cfw6e  cf--6e---e                cf6ee\n",
       "5   nwncn  n-wmc-m---                nwmcm\n",
       "13  p24gn  p2-4p----n                p24pn\n",
       "14  7dyww  7dfy-----w                7dfyw\n",
       "0   fp3wy  fp-3m----y                fp3my\n",
       "1   6pwcn  6p-wccm---                6pwcm\n",
       "8   6p2ge  8p-2g----e                8p2ge\n",
       "2   fyfbn  fyf-b----m                fyfbm\n",
       "3   77387  7738f----7                738f7\n",
       "7   cdmn8  cd-n-n---8                cdnn8\n",
       "8   ewnx8  em-nx----8                emnx8\n",
       "1   mb4en  m-b4-em---                mb4em\n",
       "2   b5fm7  b5fn-----7                b5fn7"
      ]
     },
     "execution_count": 40,
     "metadata": {},
     "output_type": "execute_result"
    }
   ],
   "source": [
    "mask = mistakes_df['prediction_corrected'].str.len() == 5\n",
    "mistakes_df[mask]"
   ]
  },
  {
   "cell_type": "code",
   "execution_count": 41,
   "metadata": {},
   "outputs": [
    {
     "name": "stdout",
     "output_type": "stream",
     "text": [
      "datasets/captcha_images_v2/5mcy7.png\n"
     ]
    },
    {
     "data": {
      "image/png": "[encoded data removed]",
      "text/plain": [
       "<Figure size 640x480 with 1 Axes>"
      ]
     },
     "metadata": {},
     "output_type": "display_data"
    }
   ],
   "source": [
    "mistake_image_fp = os.path.join(path, mistakes_df[mask]['actual'].values[0] + \".png\")\n",
    "print(mistake_image_fp)\n",
    "mistake_image = Image.open(mistake_image_fp)\n",
    "plt.imshow(mistake_image)\n",
    "plt.show()"
   ]
  },
  {
   "cell_type": "code",
   "execution_count": 42,
   "metadata": {},
   "outputs": [
    {
     "name": "stdout",
     "output_type": "stream",
     "text": [
      "0.7384615384615385\n",
      "0.5423076923076923\n"
     ]
    }
   ],
   "source": [
    "train_accuracy = accuracy_score(results_train['actual'], results_train['prediction_corrected'])\n",
    "print(train_accuracy)\n",
    "test_accuracy = accuracy_score(results_test['actual'], results_test['prediction_corrected'])\n",
    "print(test_accuracy)"
   ]
  },
  {
   "cell_type": "code",
   "execution_count": null,
   "metadata": {},
   "outputs": [],
   "source": []
  }
 ],
 "metadata": {
  "kernelspec": {
   "display_name": "Python 3 (ipykernel)",
   "language": "python",
   "name": "python3"
  },
  "language_info": {
   "codemirror_mode": {
    "name": "ipython",
    "version": 3
   },
   "file_extension": ".py",
   "mimetype": "text/x-python",
   "name": "python",
   "nbconvert_exporter": "python",
   "pygments_lexer": "ipython3",
   "version": "3.10.12"
  }
 },
 "nbformat": 4,
 "nbformat_minor": 2
}
